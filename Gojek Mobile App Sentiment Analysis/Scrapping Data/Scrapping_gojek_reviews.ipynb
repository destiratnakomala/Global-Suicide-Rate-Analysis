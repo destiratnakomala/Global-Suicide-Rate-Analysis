{
  "nbformat": 4,
  "nbformat_minor": 0,
  "metadata": {
    "colab": {
      "provenance": []
    },
    "kernelspec": {
      "name": "python3",
      "display_name": "Python 3"
    },
    "language_info": {
      "name": "python"
    }
  },
  "cells": [
    {
      "cell_type": "markdown",
      "source": [
        "# Scrapping Data"
      ],
      "metadata": {
        "id": "bxJeHmLl8efJ"
      }
    },
    {
      "cell_type": "markdown",
      "source": [
        "Considering the mobile operating system market in Indonesia is dominated by [Android (89.66%)](https://gs.statcounter.com/os-market-share/mobile/indonesia). In this project, the scrapping  data will be focused on the reviews of GOJEK from google play."
      ],
      "metadata": {
        "id": "LCKkLeNWqxRh"
      }
    },
    {
      "cell_type": "markdown",
      "source": [
        "## Import Library"
      ],
      "metadata": {
        "id": "ZRGY8viQWY-D"
      }
    },
    {
      "cell_type": "code",
      "execution_count": null,
      "metadata": {
        "colab": {
          "base_uri": "https://localhost:8080/"
        },
        "id": "HfTziNRP1TJb",
        "outputId": "c9f30321-c2c7-4cab-c0cd-f18c1ae538d0"
      },
      "outputs": [
        {
          "output_type": "stream",
          "name": "stdout",
          "text": [
            "Requirement already satisfied: google-play-scraper in /usr/local/lib/python3.10/dist-packages (1.2.4)\n"
          ]
        }
      ],
      "source": [
        "#install package\n",
        "!pip install google-play-scraper"
      ]
    },
    {
      "cell_type": "code",
      "source": [
        "from google_play_scraper import app,Sort, reviews_all\n",
        "import pandas as pd\n",
        "import numpy as np"
      ],
      "metadata": {
        "id": "w_W0y3i11kD9"
      },
      "execution_count": null,
      "outputs": []
    },
    {
      "cell_type": "markdown",
      "source": [
        "## Scrapping Reviews GOJEK from Google Play"
      ],
      "metadata": {
        "id": "nz1P9_j72m8k"
      }
    },
    {
      "cell_type": "code",
      "source": [
        "gojek_all_reviews = reviews_all(\n",
        "                              'com.gojek.app',\n",
        "                              sleep_milliseconds=0, # defaults to 0\n",
        "                              lang='id', # defaults to 'en'\n",
        "                              country='ID', # defaults to 'us'\n",
        "                              sort=Sort.NEWEST, # defaults to Sort.MOST_RELEVANT\n",
        "                          )"
      ],
      "metadata": {
        "id": "aG8cb6031mJ3"
      },
      "execution_count": null,
      "outputs": []
    },
    {
      "cell_type": "code",
      "source": [
        "#list to dataframe\n",
        "df_all_gojek = pd.DataFrame(np.array(gojek_all_reviews),columns=['review'])\n",
        "df_all_gojek = df_all_gojek.join(pd.DataFrame(df_all_gojek.pop('review').tolist()))\n",
        "df_all_gojek.head()"
      ],
      "metadata": {
        "colab": {
          "base_uri": "https://localhost:8080/",
          "height": 591
        },
        "id": "fLDNATvpyIdt",
        "outputId": "f55041ed-79df-403b-dd54-ae4a83a6e4a0"
      },
      "execution_count": null,
      "outputs": [
        {
          "output_type": "execute_result",
          "data": {
            "text/plain": [
              "                               reviewId               userName  \\\n",
              "0  8d294eab-21c3-4083-ba2b-31bf061b20af             Reza Ceper   \n",
              "1  28ab1938-7a4e-4732-a75e-2734f0546297         Lutsetia Damar   \n",
              "2  5bc205a0-ee48-4f4c-a3ee-c7251ad1d12e  Ramadhana K. Adiputra   \n",
              "3  8af916e4-cdaf-4433-99ea-2c2a7ed562c8                  Dhann   \n",
              "4  26a0ffcb-d247-457f-a7fc-32518bddcbf9         Pay Afriansyah   \n",
              "\n",
              "                                           userImage  \\\n",
              "0  https://play-lh.googleusercontent.com/a/AAcHTt...   \n",
              "1  https://play-lh.googleusercontent.com/a/AAcHTt...   \n",
              "2  https://play-lh.googleusercontent.com/a-/AD_cM...   \n",
              "3  https://play-lh.googleusercontent.com/a-/AD_cM...   \n",
              "4  https://play-lh.googleusercontent.com/a-/AD_cM...   \n",
              "\n",
              "                                             content  score  thumbsUpCount  \\\n",
              "0                     susah verifikasi lemot apk nya      1              0   \n",
              "1                                         Luar biasa      5              0   \n",
              "2                                  Lambat & lemot...      1              0   \n",
              "3  Gofood hampir setiap waktu ada gangguan terus,...      3              0   \n",
              "4                                               Good      5              0   \n",
              "\n",
              "  reviewCreatedVersion                  at  \\\n",
              "0               4.72.1 2023-08-16 23:03:22   \n",
              "1               4.72.1 2023-08-16 23:03:03   \n",
              "2               4.72.1 2023-08-16 23:02:38   \n",
              "3               4.72.1 2023-08-16 22:35:51   \n",
              "4               4.72.1 2023-08-16 22:26:17   \n",
              "\n",
              "                                        replyContent           repliedAt  \\\n",
              "0  Hai Reza, mohon maaf atas kendalanya. Pastikan... 2023-08-16 23:40:02   \n",
              "1                                               None                 NaT   \n",
              "2  Hai Ramadhana, mohon maaf atas kendalanya. Pas... 2023-08-16 23:41:31   \n",
              "3  Hai Dhan, mohon maaf atas kendalanya. Pastikan... 2023-08-17 01:36:32   \n",
              "4                                               None                 NaT   \n",
              "\n",
              "  appVersion  \n",
              "0     4.72.1  \n",
              "1     4.72.1  \n",
              "2     4.72.1  \n",
              "3     4.72.1  \n",
              "4     4.72.1  "
            ],
            "text/html": [
              "\n",
              "  <div id=\"df-0b75e616-2c8c-4084-a77a-d4a08bbe4bdf\" class=\"colab-df-container\">\n",
              "    <div>\n",
              "<style scoped>\n",
              "    .dataframe tbody tr th:only-of-type {\n",
              "        vertical-align: middle;\n",
              "    }\n",
              "\n",
              "    .dataframe tbody tr th {\n",
              "        vertical-align: top;\n",
              "    }\n",
              "\n",
              "    .dataframe thead th {\n",
              "        text-align: right;\n",
              "    }\n",
              "</style>\n",
              "<table border=\"1\" class=\"dataframe\">\n",
              "  <thead>\n",
              "    <tr style=\"text-align: right;\">\n",
              "      <th></th>\n",
              "      <th>reviewId</th>\n",
              "      <th>userName</th>\n",
              "      <th>userImage</th>\n",
              "      <th>content</th>\n",
              "      <th>score</th>\n",
              "      <th>thumbsUpCount</th>\n",
              "      <th>reviewCreatedVersion</th>\n",
              "      <th>at</th>\n",
              "      <th>replyContent</th>\n",
              "      <th>repliedAt</th>\n",
              "      <th>appVersion</th>\n",
              "    </tr>\n",
              "  </thead>\n",
              "  <tbody>\n",
              "    <tr>\n",
              "      <th>0</th>\n",
              "      <td>8d294eab-21c3-4083-ba2b-31bf061b20af</td>\n",
              "      <td>Reza Ceper</td>\n",
              "      <td>https://play-lh.googleusercontent.com/a/AAcHTt...</td>\n",
              "      <td>susah verifikasi lemot apk nya</td>\n",
              "      <td>1</td>\n",
              "      <td>0</td>\n",
              "      <td>4.72.1</td>\n",
              "      <td>2023-08-16 23:03:22</td>\n",
              "      <td>Hai Reza, mohon maaf atas kendalanya. Pastikan...</td>\n",
              "      <td>2023-08-16 23:40:02</td>\n",
              "      <td>4.72.1</td>\n",
              "    </tr>\n",
              "    <tr>\n",
              "      <th>1</th>\n",
              "      <td>28ab1938-7a4e-4732-a75e-2734f0546297</td>\n",
              "      <td>Lutsetia Damar</td>\n",
              "      <td>https://play-lh.googleusercontent.com/a/AAcHTt...</td>\n",
              "      <td>Luar biasa</td>\n",
              "      <td>5</td>\n",
              "      <td>0</td>\n",
              "      <td>4.72.1</td>\n",
              "      <td>2023-08-16 23:03:03</td>\n",
              "      <td>None</td>\n",
              "      <td>NaT</td>\n",
              "      <td>4.72.1</td>\n",
              "    </tr>\n",
              "    <tr>\n",
              "      <th>2</th>\n",
              "      <td>5bc205a0-ee48-4f4c-a3ee-c7251ad1d12e</td>\n",
              "      <td>Ramadhana K. Adiputra</td>\n",
              "      <td>https://play-lh.googleusercontent.com/a-/AD_cM...</td>\n",
              "      <td>Lambat &amp; lemot...</td>\n",
              "      <td>1</td>\n",
              "      <td>0</td>\n",
              "      <td>4.72.1</td>\n",
              "      <td>2023-08-16 23:02:38</td>\n",
              "      <td>Hai Ramadhana, mohon maaf atas kendalanya. Pas...</td>\n",
              "      <td>2023-08-16 23:41:31</td>\n",
              "      <td>4.72.1</td>\n",
              "    </tr>\n",
              "    <tr>\n",
              "      <th>3</th>\n",
              "      <td>8af916e4-cdaf-4433-99ea-2c2a7ed562c8</td>\n",
              "      <td>Dhann</td>\n",
              "      <td>https://play-lh.googleusercontent.com/a-/AD_cM...</td>\n",
              "      <td>Gofood hampir setiap waktu ada gangguan terus,...</td>\n",
              "      <td>3</td>\n",
              "      <td>0</td>\n",
              "      <td>4.72.1</td>\n",
              "      <td>2023-08-16 22:35:51</td>\n",
              "      <td>Hai Dhan, mohon maaf atas kendalanya. Pastikan...</td>\n",
              "      <td>2023-08-17 01:36:32</td>\n",
              "      <td>4.72.1</td>\n",
              "    </tr>\n",
              "    <tr>\n",
              "      <th>4</th>\n",
              "      <td>26a0ffcb-d247-457f-a7fc-32518bddcbf9</td>\n",
              "      <td>Pay Afriansyah</td>\n",
              "      <td>https://play-lh.googleusercontent.com/a-/AD_cM...</td>\n",
              "      <td>Good</td>\n",
              "      <td>5</td>\n",
              "      <td>0</td>\n",
              "      <td>4.72.1</td>\n",
              "      <td>2023-08-16 22:26:17</td>\n",
              "      <td>None</td>\n",
              "      <td>NaT</td>\n",
              "      <td>4.72.1</td>\n",
              "    </tr>\n",
              "  </tbody>\n",
              "</table>\n",
              "</div>\n",
              "    <div class=\"colab-df-buttons\">\n",
              "\n",
              "  <div class=\"colab-df-container\">\n",
              "    <button class=\"colab-df-convert\" onclick=\"convertToInteractive('df-0b75e616-2c8c-4084-a77a-d4a08bbe4bdf')\"\n",
              "            title=\"Convert this dataframe to an interactive table.\"\n",
              "            style=\"display:none;\">\n",
              "\n",
              "  <svg xmlns=\"http://www.w3.org/2000/svg\" height=\"24px\" viewBox=\"0 -960 960 960\">\n",
              "    <path d=\"M120-120v-720h720v720H120Zm60-500h600v-160H180v160Zm220 220h160v-160H400v160Zm0 220h160v-160H400v160ZM180-400h160v-160H180v160Zm440 0h160v-160H620v160ZM180-180h160v-160H180v160Zm440 0h160v-160H620v160Z\"/>\n",
              "  </svg>\n",
              "    </button>\n",
              "\n",
              "  <style>\n",
              "    .colab-df-container {\n",
              "      display:flex;\n",
              "      gap: 12px;\n",
              "    }\n",
              "\n",
              "    .colab-df-convert {\n",
              "      background-color: #E8F0FE;\n",
              "      border: none;\n",
              "      border-radius: 50%;\n",
              "      cursor: pointer;\n",
              "      display: none;\n",
              "      fill: #1967D2;\n",
              "      height: 32px;\n",
              "      padding: 0 0 0 0;\n",
              "      width: 32px;\n",
              "    }\n",
              "\n",
              "    .colab-df-convert:hover {\n",
              "      background-color: #E2EBFA;\n",
              "      box-shadow: 0px 1px 2px rgba(60, 64, 67, 0.3), 0px 1px 3px 1px rgba(60, 64, 67, 0.15);\n",
              "      fill: #174EA6;\n",
              "    }\n",
              "\n",
              "    .colab-df-buttons div {\n",
              "      margin-bottom: 4px;\n",
              "    }\n",
              "\n",
              "    [theme=dark] .colab-df-convert {\n",
              "      background-color: #3B4455;\n",
              "      fill: #D2E3FC;\n",
              "    }\n",
              "\n",
              "    [theme=dark] .colab-df-convert:hover {\n",
              "      background-color: #434B5C;\n",
              "      box-shadow: 0px 1px 3px 1px rgba(0, 0, 0, 0.15);\n",
              "      filter: drop-shadow(0px 1px 2px rgba(0, 0, 0, 0.3));\n",
              "      fill: #FFFFFF;\n",
              "    }\n",
              "  </style>\n",
              "\n",
              "    <script>\n",
              "      const buttonEl =\n",
              "        document.querySelector('#df-0b75e616-2c8c-4084-a77a-d4a08bbe4bdf button.colab-df-convert');\n",
              "      buttonEl.style.display =\n",
              "        google.colab.kernel.accessAllowed ? 'block' : 'none';\n",
              "\n",
              "      async function convertToInteractive(key) {\n",
              "        const element = document.querySelector('#df-0b75e616-2c8c-4084-a77a-d4a08bbe4bdf');\n",
              "        const dataTable =\n",
              "          await google.colab.kernel.invokeFunction('convertToInteractive',\n",
              "                                                    [key], {});\n",
              "        if (!dataTable) return;\n",
              "\n",
              "        const docLinkHtml = 'Like what you see? Visit the ' +\n",
              "          '<a target=\"_blank\" href=https://colab.research.google.com/notebooks/data_table.ipynb>data table notebook</a>'\n",
              "          + ' to learn more about interactive tables.';\n",
              "        element.innerHTML = '';\n",
              "        dataTable['output_type'] = 'display_data';\n",
              "        await google.colab.output.renderOutput(dataTable, element);\n",
              "        const docLink = document.createElement('div');\n",
              "        docLink.innerHTML = docLinkHtml;\n",
              "        element.appendChild(docLink);\n",
              "      }\n",
              "    </script>\n",
              "  </div>\n",
              "\n",
              "\n",
              "<div id=\"df-bced38b0-41e8-45cd-a0ff-9ae9a42ea3b2\">\n",
              "  <button class=\"colab-df-quickchart\" onclick=\"quickchart('df-bced38b0-41e8-45cd-a0ff-9ae9a42ea3b2')\"\n",
              "            title=\"Suggest charts.\"\n",
              "            style=\"display:none;\">\n",
              "\n",
              "<svg xmlns=\"http://www.w3.org/2000/svg\" height=\"24px\"viewBox=\"0 0 24 24\"\n",
              "     width=\"24px\">\n",
              "    <g>\n",
              "        <path d=\"M19 3H5c-1.1 0-2 .9-2 2v14c0 1.1.9 2 2 2h14c1.1 0 2-.9 2-2V5c0-1.1-.9-2-2-2zM9 17H7v-7h2v7zm4 0h-2V7h2v10zm4 0h-2v-4h2v4z\"/>\n",
              "    </g>\n",
              "</svg>\n",
              "  </button>\n",
              "\n",
              "<style>\n",
              "  .colab-df-quickchart {\n",
              "    background-color: #E8F0FE;\n",
              "    border: none;\n",
              "    border-radius: 50%;\n",
              "    cursor: pointer;\n",
              "    display: none;\n",
              "    fill: #1967D2;\n",
              "    height: 32px;\n",
              "    padding: 0 0 0 0;\n",
              "    width: 32px;\n",
              "  }\n",
              "\n",
              "  .colab-df-quickchart:hover {\n",
              "    background-color: #E2EBFA;\n",
              "    box-shadow: 0px 1px 2px rgba(60, 64, 67, 0.3), 0px 1px 3px 1px rgba(60, 64, 67, 0.15);\n",
              "    fill: #174EA6;\n",
              "  }\n",
              "\n",
              "  [theme=dark] .colab-df-quickchart {\n",
              "    background-color: #3B4455;\n",
              "    fill: #D2E3FC;\n",
              "  }\n",
              "\n",
              "  [theme=dark] .colab-df-quickchart:hover {\n",
              "    background-color: #434B5C;\n",
              "    box-shadow: 0px 1px 3px 1px rgba(0, 0, 0, 0.15);\n",
              "    filter: drop-shadow(0px 1px 2px rgba(0, 0, 0, 0.3));\n",
              "    fill: #FFFFFF;\n",
              "  }\n",
              "</style>\n",
              "\n",
              "  <script>\n",
              "    async function quickchart(key) {\n",
              "      const charts = await google.colab.kernel.invokeFunction(\n",
              "          'suggestCharts', [key], {});\n",
              "    }\n",
              "    (() => {\n",
              "      let quickchartButtonEl =\n",
              "        document.querySelector('#df-bced38b0-41e8-45cd-a0ff-9ae9a42ea3b2 button');\n",
              "      quickchartButtonEl.style.display =\n",
              "        google.colab.kernel.accessAllowed ? 'block' : 'none';\n",
              "    })();\n",
              "  </script>\n",
              "</div>\n",
              "    </div>\n",
              "  </div>\n"
            ]
          },
          "metadata": {},
          "execution_count": 21
        }
      ]
    },
    {
      "cell_type": "code",
      "source": [
        "#total rows and columns\n",
        "df_all_gojek.shape"
      ],
      "metadata": {
        "colab": {
          "base_uri": "https://localhost:8080/"
        },
        "outputId": "30c12957-7e20-4aa6-b7d1-a59b91df21ee",
        "id": "kblCXR7d1CaO"
      },
      "execution_count": null,
      "outputs": [
        {
          "output_type": "execute_result",
          "data": {
            "text/plain": [
              "(90943, 11)"
            ]
          },
          "metadata": {},
          "execution_count": 27
        }
      ]
    },
    {
      "cell_type": "code",
      "source": [
        "#data distribution based on score\n",
        "df_all_gojek['score'].value_counts()"
      ],
      "metadata": {
        "colab": {
          "base_uri": "https://localhost:8080/"
        },
        "outputId": "436ca9de-eadd-4cab-de62-2209b3ed48ad",
        "id": "HULAJZV41CaQ"
      },
      "execution_count": null,
      "outputs": [
        {
          "output_type": "execute_result",
          "data": {
            "text/plain": [
              "5    55172\n",
              "1    22525\n",
              "4     5258\n",
              "2     4083\n",
              "3     3905\n",
              "Name: score, dtype: int64"
            ]
          },
          "metadata": {},
          "execution_count": 26
        }
      ]
    },
    {
      "cell_type": "code",
      "source": [
        "#mean score\n",
        "df_all_gojek['score'].mean()"
      ],
      "metadata": {
        "colab": {
          "base_uri": "https://localhost:8080/"
        },
        "outputId": "9903c0dc-788e-4f4d-b923-70dab674324a",
        "id": "tUweabG-1CaQ"
      },
      "execution_count": null,
      "outputs": [
        {
          "output_type": "execute_result",
          "data": {
            "text/plain": [
              "3.730886379380491"
            ]
          },
          "metadata": {},
          "execution_count": 28
        }
      ]
    },
    {
      "cell_type": "code",
      "source": [
        "#time min and max\n",
        "print(df_all_gojek['at'].min())\n",
        "print(df_all_gojek['at'].max())"
      ],
      "metadata": {
        "colab": {
          "base_uri": "https://localhost:8080/"
        },
        "outputId": "e6b0311d-ddb8-4063-e40f-f7b7bef22a40",
        "id": "uQ_aqK_l1CaR"
      },
      "execution_count": null,
      "outputs": [
        {
          "output_type": "stream",
          "name": "stdout",
          "text": [
            "2022-09-17 10:08:40\n",
            "2023-08-16 23:03:22\n"
          ]
        }
      ]
    },
    {
      "cell_type": "code",
      "source": [
        "df_all_gojek.to_csv('Gojek_Mobile_Reviews_all.csv')"
      ],
      "metadata": {
        "id": "KRb0T_cG1CaS"
      },
      "execution_count": null,
      "outputs": []
    },
    {
      "cell_type": "markdown",
      "source": [
        "Scrapping the data from [google play Gojek](https://play.google.com/store/apps/details?id=com.gojek.app&hl=id)"
      ],
      "metadata": {
        "id": "MfmM-SQjY3Bq"
      }
    },
    {
      "cell_type": "code",
      "source": [
        "#scrape desired number of reviews\n",
        "from google_play_scraper import Sort, reviews\n",
        "import json\n",
        "\n",
        "gojek_reviews, continuation_token=reviews(\n",
        "                                  'com.gojek.app', #The target web\n",
        "                                  lang='id', # defaults to 'en'\n",
        "                                  country='ID', # defaults to 'us'\n",
        "                                  sort=Sort.NEWEST, # defaults to Sort.MOST_RELEVANT\n",
        "                                  count=20000,#scrap only 20k newest data\n",
        "                                  filter_score_with=None #default to none(means all score 1,2,3,4,5)\n",
        ")"
      ],
      "metadata": {
        "id": "5EMMU6W0vtuX"
      },
      "execution_count": null,
      "outputs": []
    },
    {
      "cell_type": "code",
      "source": [
        "df_go=pd.json_normalize(gojek_reviews)\n",
        "df_go.head(1)"
      ],
      "metadata": {
        "colab": {
          "base_uri": "https://localhost:8080/",
          "height": 205
        },
        "id": "EU6fDtkt1p5d",
        "outputId": "19246d02-6159-4f4f-f4f1-3bdd1644230d"
      },
      "execution_count": null,
      "outputs": [
        {
          "output_type": "execute_result",
          "data": {
            "text/plain": [
              "                               reviewId userName  \\\n",
              "0  8af916e4-cdaf-4433-99ea-2c2a7ed562c8    Dhann   \n",
              "\n",
              "                                           userImage  \\\n",
              "0  https://play-lh.googleusercontent.com/a-/AD_cM...   \n",
              "\n",
              "                                             content  score  thumbsUpCount  \\\n",
              "0  Gofood hampir setiap waktu ada gangguan terus,...      3              0   \n",
              "\n",
              "  reviewCreatedVersion                  at  \\\n",
              "0               4.72.1 2023-08-16 22:35:51   \n",
              "\n",
              "                                        replyContent           repliedAt  \\\n",
              "0  Hai Dhan, mohon maaf atas kendalanya. Pastikan... 2023-08-17 01:36:32   \n",
              "\n",
              "  appVersion  \n",
              "0     4.72.1  "
            ],
            "text/html": [
              "\n",
              "  <div id=\"df-3db36035-b0f0-4f33-aa49-720ba3908b02\" class=\"colab-df-container\">\n",
              "    <div>\n",
              "<style scoped>\n",
              "    .dataframe tbody tr th:only-of-type {\n",
              "        vertical-align: middle;\n",
              "    }\n",
              "\n",
              "    .dataframe tbody tr th {\n",
              "        vertical-align: top;\n",
              "    }\n",
              "\n",
              "    .dataframe thead th {\n",
              "        text-align: right;\n",
              "    }\n",
              "</style>\n",
              "<table border=\"1\" class=\"dataframe\">\n",
              "  <thead>\n",
              "    <tr style=\"text-align: right;\">\n",
              "      <th></th>\n",
              "      <th>reviewId</th>\n",
              "      <th>userName</th>\n",
              "      <th>userImage</th>\n",
              "      <th>content</th>\n",
              "      <th>score</th>\n",
              "      <th>thumbsUpCount</th>\n",
              "      <th>reviewCreatedVersion</th>\n",
              "      <th>at</th>\n",
              "      <th>replyContent</th>\n",
              "      <th>repliedAt</th>\n",
              "      <th>appVersion</th>\n",
              "    </tr>\n",
              "  </thead>\n",
              "  <tbody>\n",
              "    <tr>\n",
              "      <th>0</th>\n",
              "      <td>8af916e4-cdaf-4433-99ea-2c2a7ed562c8</td>\n",
              "      <td>Dhann</td>\n",
              "      <td>https://play-lh.googleusercontent.com/a-/AD_cM...</td>\n",
              "      <td>Gofood hampir setiap waktu ada gangguan terus,...</td>\n",
              "      <td>3</td>\n",
              "      <td>0</td>\n",
              "      <td>4.72.1</td>\n",
              "      <td>2023-08-16 22:35:51</td>\n",
              "      <td>Hai Dhan, mohon maaf atas kendalanya. Pastikan...</td>\n",
              "      <td>2023-08-17 01:36:32</td>\n",
              "      <td>4.72.1</td>\n",
              "    </tr>\n",
              "  </tbody>\n",
              "</table>\n",
              "</div>\n",
              "    <div class=\"colab-df-buttons\">\n",
              "\n",
              "  <div class=\"colab-df-container\">\n",
              "    <button class=\"colab-df-convert\" onclick=\"convertToInteractive('df-3db36035-b0f0-4f33-aa49-720ba3908b02')\"\n",
              "            title=\"Convert this dataframe to an interactive table.\"\n",
              "            style=\"display:none;\">\n",
              "\n",
              "  <svg xmlns=\"http://www.w3.org/2000/svg\" height=\"24px\" viewBox=\"0 -960 960 960\">\n",
              "    <path d=\"M120-120v-720h720v720H120Zm60-500h600v-160H180v160Zm220 220h160v-160H400v160Zm0 220h160v-160H400v160ZM180-400h160v-160H180v160Zm440 0h160v-160H620v160ZM180-180h160v-160H180v160Zm440 0h160v-160H620v160Z\"/>\n",
              "  </svg>\n",
              "    </button>\n",
              "\n",
              "  <style>\n",
              "    .colab-df-container {\n",
              "      display:flex;\n",
              "      gap: 12px;\n",
              "    }\n",
              "\n",
              "    .colab-df-convert {\n",
              "      background-color: #E8F0FE;\n",
              "      border: none;\n",
              "      border-radius: 50%;\n",
              "      cursor: pointer;\n",
              "      display: none;\n",
              "      fill: #1967D2;\n",
              "      height: 32px;\n",
              "      padding: 0 0 0 0;\n",
              "      width: 32px;\n",
              "    }\n",
              "\n",
              "    .colab-df-convert:hover {\n",
              "      background-color: #E2EBFA;\n",
              "      box-shadow: 0px 1px 2px rgba(60, 64, 67, 0.3), 0px 1px 3px 1px rgba(60, 64, 67, 0.15);\n",
              "      fill: #174EA6;\n",
              "    }\n",
              "\n",
              "    .colab-df-buttons div {\n",
              "      margin-bottom: 4px;\n",
              "    }\n",
              "\n",
              "    [theme=dark] .colab-df-convert {\n",
              "      background-color: #3B4455;\n",
              "      fill: #D2E3FC;\n",
              "    }\n",
              "\n",
              "    [theme=dark] .colab-df-convert:hover {\n",
              "      background-color: #434B5C;\n",
              "      box-shadow: 0px 1px 3px 1px rgba(0, 0, 0, 0.15);\n",
              "      filter: drop-shadow(0px 1px 2px rgba(0, 0, 0, 0.3));\n",
              "      fill: #FFFFFF;\n",
              "    }\n",
              "  </style>\n",
              "\n",
              "    <script>\n",
              "      const buttonEl =\n",
              "        document.querySelector('#df-3db36035-b0f0-4f33-aa49-720ba3908b02 button.colab-df-convert');\n",
              "      buttonEl.style.display =\n",
              "        google.colab.kernel.accessAllowed ? 'block' : 'none';\n",
              "\n",
              "      async function convertToInteractive(key) {\n",
              "        const element = document.querySelector('#df-3db36035-b0f0-4f33-aa49-720ba3908b02');\n",
              "        const dataTable =\n",
              "          await google.colab.kernel.invokeFunction('convertToInteractive',\n",
              "                                                    [key], {});\n",
              "        if (!dataTable) return;\n",
              "\n",
              "        const docLinkHtml = 'Like what you see? Visit the ' +\n",
              "          '<a target=\"_blank\" href=https://colab.research.google.com/notebooks/data_table.ipynb>data table notebook</a>'\n",
              "          + ' to learn more about interactive tables.';\n",
              "        element.innerHTML = '';\n",
              "        dataTable['output_type'] = 'display_data';\n",
              "        await google.colab.output.renderOutput(dataTable, element);\n",
              "        const docLink = document.createElement('div');\n",
              "        docLink.innerHTML = docLinkHtml;\n",
              "        element.appendChild(docLink);\n",
              "      }\n",
              "    </script>\n",
              "  </div>\n",
              "\n",
              "\n",
              "<div id=\"df-cf4a5cd3-ef33-4270-8190-9dc0dc21bbce\">\n",
              "  <button class=\"colab-df-quickchart\" onclick=\"quickchart('df-cf4a5cd3-ef33-4270-8190-9dc0dc21bbce')\"\n",
              "            title=\"Suggest charts.\"\n",
              "            style=\"display:none;\">\n",
              "\n",
              "<svg xmlns=\"http://www.w3.org/2000/svg\" height=\"24px\"viewBox=\"0 0 24 24\"\n",
              "     width=\"24px\">\n",
              "    <g>\n",
              "        <path d=\"M19 3H5c-1.1 0-2 .9-2 2v14c0 1.1.9 2 2 2h14c1.1 0 2-.9 2-2V5c0-1.1-.9-2-2-2zM9 17H7v-7h2v7zm4 0h-2V7h2v10zm4 0h-2v-4h2v4z\"/>\n",
              "    </g>\n",
              "</svg>\n",
              "  </button>\n",
              "\n",
              "<style>\n",
              "  .colab-df-quickchart {\n",
              "    background-color: #E8F0FE;\n",
              "    border: none;\n",
              "    border-radius: 50%;\n",
              "    cursor: pointer;\n",
              "    display: none;\n",
              "    fill: #1967D2;\n",
              "    height: 32px;\n",
              "    padding: 0 0 0 0;\n",
              "    width: 32px;\n",
              "  }\n",
              "\n",
              "  .colab-df-quickchart:hover {\n",
              "    background-color: #E2EBFA;\n",
              "    box-shadow: 0px 1px 2px rgba(60, 64, 67, 0.3), 0px 1px 3px 1px rgba(60, 64, 67, 0.15);\n",
              "    fill: #174EA6;\n",
              "  }\n",
              "\n",
              "  [theme=dark] .colab-df-quickchart {\n",
              "    background-color: #3B4455;\n",
              "    fill: #D2E3FC;\n",
              "  }\n",
              "\n",
              "  [theme=dark] .colab-df-quickchart:hover {\n",
              "    background-color: #434B5C;\n",
              "    box-shadow: 0px 1px 3px 1px rgba(0, 0, 0, 0.15);\n",
              "    filter: drop-shadow(0px 1px 2px rgba(0, 0, 0, 0.3));\n",
              "    fill: #FFFFFF;\n",
              "  }\n",
              "</style>\n",
              "\n",
              "  <script>\n",
              "    async function quickchart(key) {\n",
              "      const charts = await google.colab.kernel.invokeFunction(\n",
              "          'suggestCharts', [key], {});\n",
              "    }\n",
              "    (() => {\n",
              "      let quickchartButtonEl =\n",
              "        document.querySelector('#df-cf4a5cd3-ef33-4270-8190-9dc0dc21bbce button');\n",
              "      quickchartButtonEl.style.display =\n",
              "        google.colab.kernel.accessAllowed ? 'block' : 'none';\n",
              "    })();\n",
              "  </script>\n",
              "</div>\n",
              "    </div>\n",
              "  </div>\n"
            ]
          },
          "metadata": {},
          "execution_count": 34
        }
      ]
    },
    {
      "cell_type": "code",
      "source": [
        "#list to dataframe\n",
        "df_gojek = pd.DataFrame(np.array(gojek_reviews),columns=['review'])\n",
        "df_gojek = df_gojek.join(pd.DataFrame(df_gojek.pop('review').tolist()))\n",
        "df_gojek.head()"
      ],
      "metadata": {
        "colab": {
          "base_uri": "https://localhost:8080/",
          "height": 556
        },
        "id": "AGRtXfr8xYhf",
        "outputId": "7b5205c8-07aa-4dd6-8164-7e0319d9ccbc"
      },
      "execution_count": null,
      "outputs": [
        {
          "output_type": "execute_result",
          "data": {
            "text/plain": [
              "                               reviewId        userName  \\\n",
              "0  8af916e4-cdaf-4433-99ea-2c2a7ed562c8           Dhann   \n",
              "1  26a0ffcb-d247-457f-a7fc-32518bddcbf9  Pay Afriansyah   \n",
              "2  45ecc626-011f-4231-9ef6-0691f544dc8d  Vicky Yuanarta   \n",
              "3  28629b37-6bf5-43ce-ab65-ca3649f2186e    surya herman   \n",
              "4  bc6a25d1-024a-4a01-a8a0-89c9cba61437       Hahe Huhu   \n",
              "\n",
              "                                           userImage  \\\n",
              "0  https://play-lh.googleusercontent.com/a-/AD_cM...   \n",
              "1  https://play-lh.googleusercontent.com/a-/AD_cM...   \n",
              "2  https://play-lh.googleusercontent.com/a/AAcHTt...   \n",
              "3  https://play-lh.googleusercontent.com/a/AAcHTt...   \n",
              "4  https://play-lh.googleusercontent.com/a/AAcHTt...   \n",
              "\n",
              "                                             content  score  thumbsUpCount  \\\n",
              "0  Gofood hampir setiap waktu ada gangguan terus,...      3              0   \n",
              "1                                               Good      5              0   \n",
              "2         Aplikasi kok gak bisa di buka dari kemaren      3              0   \n",
              "3                                                 Ok      5              0   \n",
              "4                                           Ok bener      5              0   \n",
              "\n",
              "  reviewCreatedVersion                  at  \\\n",
              "0               4.72.1 2023-08-16 22:35:51   \n",
              "1               4.72.1 2023-08-16 22:26:17   \n",
              "2                 None 2023-08-16 22:22:09   \n",
              "3               4.72.1 2023-08-16 22:16:09   \n",
              "4               4.72.1 2023-08-16 22:01:05   \n",
              "\n",
              "                                        replyContent           repliedAt  \\\n",
              "0  Hai Dhan, mohon maaf atas kendalanya. Pastikan... 2023-08-17 01:36:32   \n",
              "1                                               None                 NaT   \n",
              "2  Hai Vicky Yuanarta, mohon maaf atas kendalanya... 2023-08-17 01:38:30   \n",
              "3                                               None                 NaT   \n",
              "4                                               None                 NaT   \n",
              "\n",
              "  appVersion  \n",
              "0     4.72.1  \n",
              "1     4.72.1  \n",
              "2       None  \n",
              "3     4.72.1  \n",
              "4     4.72.1  "
            ],
            "text/html": [
              "\n",
              "  <div id=\"df-28a4862b-9759-4952-b44a-728acb74cb45\" class=\"colab-df-container\">\n",
              "    <div>\n",
              "<style scoped>\n",
              "    .dataframe tbody tr th:only-of-type {\n",
              "        vertical-align: middle;\n",
              "    }\n",
              "\n",
              "    .dataframe tbody tr th {\n",
              "        vertical-align: top;\n",
              "    }\n",
              "\n",
              "    .dataframe thead th {\n",
              "        text-align: right;\n",
              "    }\n",
              "</style>\n",
              "<table border=\"1\" class=\"dataframe\">\n",
              "  <thead>\n",
              "    <tr style=\"text-align: right;\">\n",
              "      <th></th>\n",
              "      <th>reviewId</th>\n",
              "      <th>userName</th>\n",
              "      <th>userImage</th>\n",
              "      <th>content</th>\n",
              "      <th>score</th>\n",
              "      <th>thumbsUpCount</th>\n",
              "      <th>reviewCreatedVersion</th>\n",
              "      <th>at</th>\n",
              "      <th>replyContent</th>\n",
              "      <th>repliedAt</th>\n",
              "      <th>appVersion</th>\n",
              "    </tr>\n",
              "  </thead>\n",
              "  <tbody>\n",
              "    <tr>\n",
              "      <th>0</th>\n",
              "      <td>8af916e4-cdaf-4433-99ea-2c2a7ed562c8</td>\n",
              "      <td>Dhann</td>\n",
              "      <td>https://play-lh.googleusercontent.com/a-/AD_cM...</td>\n",
              "      <td>Gofood hampir setiap waktu ada gangguan terus,...</td>\n",
              "      <td>3</td>\n",
              "      <td>0</td>\n",
              "      <td>4.72.1</td>\n",
              "      <td>2023-08-16 22:35:51</td>\n",
              "      <td>Hai Dhan, mohon maaf atas kendalanya. Pastikan...</td>\n",
              "      <td>2023-08-17 01:36:32</td>\n",
              "      <td>4.72.1</td>\n",
              "    </tr>\n",
              "    <tr>\n",
              "      <th>1</th>\n",
              "      <td>26a0ffcb-d247-457f-a7fc-32518bddcbf9</td>\n",
              "      <td>Pay Afriansyah</td>\n",
              "      <td>https://play-lh.googleusercontent.com/a-/AD_cM...</td>\n",
              "      <td>Good</td>\n",
              "      <td>5</td>\n",
              "      <td>0</td>\n",
              "      <td>4.72.1</td>\n",
              "      <td>2023-08-16 22:26:17</td>\n",
              "      <td>None</td>\n",
              "      <td>NaT</td>\n",
              "      <td>4.72.1</td>\n",
              "    </tr>\n",
              "    <tr>\n",
              "      <th>2</th>\n",
              "      <td>45ecc626-011f-4231-9ef6-0691f544dc8d</td>\n",
              "      <td>Vicky Yuanarta</td>\n",
              "      <td>https://play-lh.googleusercontent.com/a/AAcHTt...</td>\n",
              "      <td>Aplikasi kok gak bisa di buka dari kemaren</td>\n",
              "      <td>3</td>\n",
              "      <td>0</td>\n",
              "      <td>None</td>\n",
              "      <td>2023-08-16 22:22:09</td>\n",
              "      <td>Hai Vicky Yuanarta, mohon maaf atas kendalanya...</td>\n",
              "      <td>2023-08-17 01:38:30</td>\n",
              "      <td>None</td>\n",
              "    </tr>\n",
              "    <tr>\n",
              "      <th>3</th>\n",
              "      <td>28629b37-6bf5-43ce-ab65-ca3649f2186e</td>\n",
              "      <td>surya herman</td>\n",
              "      <td>https://play-lh.googleusercontent.com/a/AAcHTt...</td>\n",
              "      <td>Ok</td>\n",
              "      <td>5</td>\n",
              "      <td>0</td>\n",
              "      <td>4.72.1</td>\n",
              "      <td>2023-08-16 22:16:09</td>\n",
              "      <td>None</td>\n",
              "      <td>NaT</td>\n",
              "      <td>4.72.1</td>\n",
              "    </tr>\n",
              "    <tr>\n",
              "      <th>4</th>\n",
              "      <td>bc6a25d1-024a-4a01-a8a0-89c9cba61437</td>\n",
              "      <td>Hahe Huhu</td>\n",
              "      <td>https://play-lh.googleusercontent.com/a/AAcHTt...</td>\n",
              "      <td>Ok bener</td>\n",
              "      <td>5</td>\n",
              "      <td>0</td>\n",
              "      <td>4.72.1</td>\n",
              "      <td>2023-08-16 22:01:05</td>\n",
              "      <td>None</td>\n",
              "      <td>NaT</td>\n",
              "      <td>4.72.1</td>\n",
              "    </tr>\n",
              "  </tbody>\n",
              "</table>\n",
              "</div>\n",
              "    <div class=\"colab-df-buttons\">\n",
              "\n",
              "  <div class=\"colab-df-container\">\n",
              "    <button class=\"colab-df-convert\" onclick=\"convertToInteractive('df-28a4862b-9759-4952-b44a-728acb74cb45')\"\n",
              "            title=\"Convert this dataframe to an interactive table.\"\n",
              "            style=\"display:none;\">\n",
              "\n",
              "  <svg xmlns=\"http://www.w3.org/2000/svg\" height=\"24px\" viewBox=\"0 -960 960 960\">\n",
              "    <path d=\"M120-120v-720h720v720H120Zm60-500h600v-160H180v160Zm220 220h160v-160H400v160Zm0 220h160v-160H400v160ZM180-400h160v-160H180v160Zm440 0h160v-160H620v160ZM180-180h160v-160H180v160Zm440 0h160v-160H620v160Z\"/>\n",
              "  </svg>\n",
              "    </button>\n",
              "\n",
              "  <style>\n",
              "    .colab-df-container {\n",
              "      display:flex;\n",
              "      gap: 12px;\n",
              "    }\n",
              "\n",
              "    .colab-df-convert {\n",
              "      background-color: #E8F0FE;\n",
              "      border: none;\n",
              "      border-radius: 50%;\n",
              "      cursor: pointer;\n",
              "      display: none;\n",
              "      fill: #1967D2;\n",
              "      height: 32px;\n",
              "      padding: 0 0 0 0;\n",
              "      width: 32px;\n",
              "    }\n",
              "\n",
              "    .colab-df-convert:hover {\n",
              "      background-color: #E2EBFA;\n",
              "      box-shadow: 0px 1px 2px rgba(60, 64, 67, 0.3), 0px 1px 3px 1px rgba(60, 64, 67, 0.15);\n",
              "      fill: #174EA6;\n",
              "    }\n",
              "\n",
              "    .colab-df-buttons div {\n",
              "      margin-bottom: 4px;\n",
              "    }\n",
              "\n",
              "    [theme=dark] .colab-df-convert {\n",
              "      background-color: #3B4455;\n",
              "      fill: #D2E3FC;\n",
              "    }\n",
              "\n",
              "    [theme=dark] .colab-df-convert:hover {\n",
              "      background-color: #434B5C;\n",
              "      box-shadow: 0px 1px 3px 1px rgba(0, 0, 0, 0.15);\n",
              "      filter: drop-shadow(0px 1px 2px rgba(0, 0, 0, 0.3));\n",
              "      fill: #FFFFFF;\n",
              "    }\n",
              "  </style>\n",
              "\n",
              "    <script>\n",
              "      const buttonEl =\n",
              "        document.querySelector('#df-28a4862b-9759-4952-b44a-728acb74cb45 button.colab-df-convert');\n",
              "      buttonEl.style.display =\n",
              "        google.colab.kernel.accessAllowed ? 'block' : 'none';\n",
              "\n",
              "      async function convertToInteractive(key) {\n",
              "        const element = document.querySelector('#df-28a4862b-9759-4952-b44a-728acb74cb45');\n",
              "        const dataTable =\n",
              "          await google.colab.kernel.invokeFunction('convertToInteractive',\n",
              "                                                    [key], {});\n",
              "        if (!dataTable) return;\n",
              "\n",
              "        const docLinkHtml = 'Like what you see? Visit the ' +\n",
              "          '<a target=\"_blank\" href=https://colab.research.google.com/notebooks/data_table.ipynb>data table notebook</a>'\n",
              "          + ' to learn more about interactive tables.';\n",
              "        element.innerHTML = '';\n",
              "        dataTable['output_type'] = 'display_data';\n",
              "        await google.colab.output.renderOutput(dataTable, element);\n",
              "        const docLink = document.createElement('div');\n",
              "        docLink.innerHTML = docLinkHtml;\n",
              "        element.appendChild(docLink);\n",
              "      }\n",
              "    </script>\n",
              "  </div>\n",
              "\n",
              "\n",
              "<div id=\"df-ac05da85-8bf7-479e-a427-f0d1a9a3972e\">\n",
              "  <button class=\"colab-df-quickchart\" onclick=\"quickchart('df-ac05da85-8bf7-479e-a427-f0d1a9a3972e')\"\n",
              "            title=\"Suggest charts.\"\n",
              "            style=\"display:none;\">\n",
              "\n",
              "<svg xmlns=\"http://www.w3.org/2000/svg\" height=\"24px\"viewBox=\"0 0 24 24\"\n",
              "     width=\"24px\">\n",
              "    <g>\n",
              "        <path d=\"M19 3H5c-1.1 0-2 .9-2 2v14c0 1.1.9 2 2 2h14c1.1 0 2-.9 2-2V5c0-1.1-.9-2-2-2zM9 17H7v-7h2v7zm4 0h-2V7h2v10zm4 0h-2v-4h2v4z\"/>\n",
              "    </g>\n",
              "</svg>\n",
              "  </button>\n",
              "\n",
              "<style>\n",
              "  .colab-df-quickchart {\n",
              "    background-color: #E8F0FE;\n",
              "    border: none;\n",
              "    border-radius: 50%;\n",
              "    cursor: pointer;\n",
              "    display: none;\n",
              "    fill: #1967D2;\n",
              "    height: 32px;\n",
              "    padding: 0 0 0 0;\n",
              "    width: 32px;\n",
              "  }\n",
              "\n",
              "  .colab-df-quickchart:hover {\n",
              "    background-color: #E2EBFA;\n",
              "    box-shadow: 0px 1px 2px rgba(60, 64, 67, 0.3), 0px 1px 3px 1px rgba(60, 64, 67, 0.15);\n",
              "    fill: #174EA6;\n",
              "  }\n",
              "\n",
              "  [theme=dark] .colab-df-quickchart {\n",
              "    background-color: #3B4455;\n",
              "    fill: #D2E3FC;\n",
              "  }\n",
              "\n",
              "  [theme=dark] .colab-df-quickchart:hover {\n",
              "    background-color: #434B5C;\n",
              "    box-shadow: 0px 1px 3px 1px rgba(0, 0, 0, 0.15);\n",
              "    filter: drop-shadow(0px 1px 2px rgba(0, 0, 0, 0.3));\n",
              "    fill: #FFFFFF;\n",
              "  }\n",
              "</style>\n",
              "\n",
              "  <script>\n",
              "    async function quickchart(key) {\n",
              "      const charts = await google.colab.kernel.invokeFunction(\n",
              "          'suggestCharts', [key], {});\n",
              "    }\n",
              "    (() => {\n",
              "      let quickchartButtonEl =\n",
              "        document.querySelector('#df-ac05da85-8bf7-479e-a427-f0d1a9a3972e button');\n",
              "      quickchartButtonEl.style.display =\n",
              "        google.colab.kernel.accessAllowed ? 'block' : 'none';\n",
              "    })();\n",
              "  </script>\n",
              "</div>\n",
              "    </div>\n",
              "  </div>\n"
            ]
          },
          "metadata": {},
          "execution_count": 5
        }
      ]
    },
    {
      "cell_type": "code",
      "source": [
        "#total rows and columns\n",
        "df_gojek.shape"
      ],
      "metadata": {
        "colab": {
          "base_uri": "https://localhost:8080/"
        },
        "id": "tPCwWWX_2QJU",
        "outputId": "d1f13906-1ff6-4ce9-8c8e-6a553d941919"
      },
      "execution_count": null,
      "outputs": [
        {
          "output_type": "execute_result",
          "data": {
            "text/plain": [
              "(20000, 11)"
            ]
          },
          "metadata": {},
          "execution_count": 6
        }
      ]
    },
    {
      "cell_type": "code",
      "source": [
        "#data distribution based on score\n",
        "df_gojek['score'].value_counts()"
      ],
      "metadata": {
        "colab": {
          "base_uri": "https://localhost:8080/"
        },
        "id": "gXQ8y2D9y2hS",
        "outputId": "82b4f0b8-12ee-4c93-b2bb-089bb19deb49"
      },
      "execution_count": null,
      "outputs": [
        {
          "output_type": "execute_result",
          "data": {
            "text/plain": [
              "5    12337\n",
              "1     4842\n",
              "4     1144\n",
              "3      849\n",
              "2      828\n",
              "Name: score, dtype: int64"
            ]
          },
          "metadata": {},
          "execution_count": 7
        }
      ]
    },
    {
      "cell_type": "code",
      "source": [
        "#mean score\n",
        "df_gojek['score'].mean()"
      ],
      "metadata": {
        "colab": {
          "base_uri": "https://localhost:8080/"
        },
        "id": "r7GXqXBD2bhs",
        "outputId": "5ec9eb78-2c10-453e-f232-ccdcbd80dace"
      },
      "execution_count": null,
      "outputs": [
        {
          "output_type": "execute_result",
          "data": {
            "text/plain": [
              "3.7653"
            ]
          },
          "metadata": {},
          "execution_count": 8
        }
      ]
    },
    {
      "cell_type": "code",
      "source": [
        "#time min and max\n",
        "print(df_gojek['at'].min())\n",
        "print(df_gojek['at'].max())"
      ],
      "metadata": {
        "colab": {
          "base_uri": "https://localhost:8080/"
        },
        "id": "sssz-fdRw5eC",
        "outputId": "66d913c7-381c-4755-f947-c977ead7fee0"
      },
      "execution_count": null,
      "outputs": [
        {
          "output_type": "stream",
          "name": "stdout",
          "text": [
            "2023-06-02 09:08:42\n",
            "2023-08-16 22:35:51\n"
          ]
        }
      ]
    },
    {
      "cell_type": "code",
      "source": [
        "df_gojek.to_csv('Gojek_Mobile_Reviews.csv')"
      ],
      "metadata": {
        "id": "orGdcPig41vb"
      },
      "execution_count": null,
      "outputs": []
    }
  ]
}
