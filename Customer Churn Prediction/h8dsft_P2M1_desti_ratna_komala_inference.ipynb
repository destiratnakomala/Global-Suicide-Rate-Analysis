{
  "nbformat": 4,
  "nbformat_minor": 0,
  "metadata": {
    "colab": {
      "provenance": []
    },
    "kernelspec": {
      "name": "python3",
      "display_name": "Python 3"
    },
    "language_info": {
      "name": "python"
    }
  },
  "cells": [
    {
      "cell_type": "markdown",
      "metadata": {
        "id": "RiN3pA6zzge6"
      },
      "source": [
        "# Milestone 1 Phase 2"
      ]
    },
    {
      "cell_type": "markdown",
      "metadata": {
        "id": "5WBqz50dG-Q8"
      },
      "source": [
        "## 1 - Perkenalan\n",
        "\n",
        "\n",
        "Nama: DESTI RATNA KOMALA\n",
        "\n",
        "Batch : FTDS-020-RMT\n",
        "\n",
        "Dataset : `Churn`\n",
        "\n",
        "HuggingFace: [`churn-customer-prediction`](https://huggingface.co/spaces/destiratnakomala/Churn-Customer-Prediction)"
      ]
    },
    {
      "cell_type": "markdown",
      "metadata": {
        "id": "keZza50ldyoN"
      },
      "source": [
        "### Judul\n",
        "\n",
        "\n",
        "**\"Pemodelan Deeplearning Framework memprediksi customer yang akan berhenti menggunakan produk (churn) pada perusahaan tersebut\"**\n",
        "\n",
        "\n"
      ]
    },
    {
      "cell_type": "markdown",
      "metadata": {
        "id": "khqF5pLSzwtA"
      },
      "source": [
        "### Objective\n",
        "\n",
        "\n"
      ]
    },
    {
      "cell_type": "markdown",
      "metadata": {
        "id": "RkDLx9nqbD1A"
      },
      "source": [
        "Menguji model sequential improvement API dengan data baru untuk memprediksi churn customer"
      ]
    },
    {
      "cell_type": "markdown",
      "metadata": {
        "id": "_XqP05M3shxj"
      },
      "source": [
        "## 2- Import Library"
      ]
    },
    {
      "cell_type": "code",
      "execution_count": null,
      "metadata": {
        "id": "-qteno3fshxn"
      },
      "outputs": [],
      "source": [
        "# Import Library\n",
        "\n",
        "import pickle\n",
        "import pandas as pd\n",
        "import numpy as np\n",
        "from tensorflow.keras.models import load_model"
      ]
    },
    {
      "cell_type": "markdown",
      "source": [
        "## 3-Load model"
      ],
      "metadata": {
        "id": "qQZBEUvMst-N"
      }
    },
    {
      "cell_type": "code",
      "execution_count": null,
      "metadata": {
        "id": "4h-tsbMvshxu"
      },
      "outputs": [],
      "source": [
        "# Load Model\n",
        "\n",
        "with open('preprocessor_churn.pkl', 'rb') as file_1:\n",
        "  preprocessor = pickle.load(file_1)\n",
        "\n",
        "model_churn = load_model('churn_best_model.h5', compile=False)\n"
      ]
    },
    {
      "cell_type": "markdown",
      "source": [
        "## 4- Data inferencing"
      ],
      "metadata": {
        "id": "AkkaIm11syly"
      }
    },
    {
      "cell_type": "code",
      "execution_count": null,
      "metadata": {
        "id": "sHxCCwJkshxz",
        "outputId": "b2960de1-ad07-46e0-abd9-9c18fa150c8e",
        "colab": {
          "base_uri": "https://localhost:8080/",
          "height": 209
        }
      },
      "outputs": [
        {
          "output_type": "execute_result",
          "data": {
            "text/plain": [
              "            user_id  age gender region_category membership_category  \\\n",
              "0  a4403ddda8fcf9f3   38    F\\t            City     Gold Membership   \n",
              "\n",
              "  joining_date joined_through_referral preferred_offer_types  \\\n",
              "0   2016-05-25                     Yes        Without Offers   \n",
              "\n",
              "  medium_of_operation internet_option  ... days_since_last_login  \\\n",
              "0             Desktop           Wi-Fi  ...                     3   \n",
              "\n",
              "   avg_time_spent  avg_transaction_value  avg_frequency_login_days  \\\n",
              "0              34                  30000                        24   \n",
              "\n",
              "   points_in_wallet  used_special_discount offer_application_preference  \\\n",
              "0            700.93                    Yes                           No   \n",
              "\n",
              "  past_complaint complaint_status               feedback  \n",
              "0            Yes         Unsolved  Poor Customer Service  \n",
              "\n",
              "[1 rows x 21 columns]"
            ],
            "text/html": [
              "\n",
              "\n",
              "  <div id=\"df-07bdcaf1-0436-4caa-872f-a49be3c90843\">\n",
              "    <div class=\"colab-df-container\">\n",
              "      <div>\n",
              "<style scoped>\n",
              "    .dataframe tbody tr th:only-of-type {\n",
              "        vertical-align: middle;\n",
              "    }\n",
              "\n",
              "    .dataframe tbody tr th {\n",
              "        vertical-align: top;\n",
              "    }\n",
              "\n",
              "    .dataframe thead th {\n",
              "        text-align: right;\n",
              "    }\n",
              "</style>\n",
              "<table border=\"1\" class=\"dataframe\">\n",
              "  <thead>\n",
              "    <tr style=\"text-align: right;\">\n",
              "      <th></th>\n",
              "      <th>user_id</th>\n",
              "      <th>age</th>\n",
              "      <th>gender</th>\n",
              "      <th>region_category</th>\n",
              "      <th>membership_category</th>\n",
              "      <th>joining_date</th>\n",
              "      <th>joined_through_referral</th>\n",
              "      <th>preferred_offer_types</th>\n",
              "      <th>medium_of_operation</th>\n",
              "      <th>internet_option</th>\n",
              "      <th>...</th>\n",
              "      <th>days_since_last_login</th>\n",
              "      <th>avg_time_spent</th>\n",
              "      <th>avg_transaction_value</th>\n",
              "      <th>avg_frequency_login_days</th>\n",
              "      <th>points_in_wallet</th>\n",
              "      <th>used_special_discount</th>\n",
              "      <th>offer_application_preference</th>\n",
              "      <th>past_complaint</th>\n",
              "      <th>complaint_status</th>\n",
              "      <th>feedback</th>\n",
              "    </tr>\n",
              "  </thead>\n",
              "  <tbody>\n",
              "    <tr>\n",
              "      <th>0</th>\n",
              "      <td>a4403ddda8fcf9f3</td>\n",
              "      <td>38</td>\n",
              "      <td>F\\t</td>\n",
              "      <td>City</td>\n",
              "      <td>Gold Membership</td>\n",
              "      <td>2016-05-25</td>\n",
              "      <td>Yes</td>\n",
              "      <td>Without Offers</td>\n",
              "      <td>Desktop</td>\n",
              "      <td>Wi-Fi</td>\n",
              "      <td>...</td>\n",
              "      <td>3</td>\n",
              "      <td>34</td>\n",
              "      <td>30000</td>\n",
              "      <td>24</td>\n",
              "      <td>700.93</td>\n",
              "      <td>Yes</td>\n",
              "      <td>No</td>\n",
              "      <td>Yes</td>\n",
              "      <td>Unsolved</td>\n",
              "      <td>Poor Customer Service</td>\n",
              "    </tr>\n",
              "  </tbody>\n",
              "</table>\n",
              "<p>1 rows × 21 columns</p>\n",
              "</div>\n",
              "      <button class=\"colab-df-convert\" onclick=\"convertToInteractive('df-07bdcaf1-0436-4caa-872f-a49be3c90843')\"\n",
              "              title=\"Convert this dataframe to an interactive table.\"\n",
              "              style=\"display:none;\">\n",
              "\n",
              "  <svg xmlns=\"http://www.w3.org/2000/svg\" height=\"24px\"viewBox=\"0 0 24 24\"\n",
              "       width=\"24px\">\n",
              "    <path d=\"M0 0h24v24H0V0z\" fill=\"none\"/>\n",
              "    <path d=\"M18.56 5.44l.94 2.06.94-2.06 2.06-.94-2.06-.94-.94-2.06-.94 2.06-2.06.94zm-11 1L8.5 8.5l.94-2.06 2.06-.94-2.06-.94L8.5 2.5l-.94 2.06-2.06.94zm10 10l.94 2.06.94-2.06 2.06-.94-2.06-.94-.94-2.06-.94 2.06-2.06.94z\"/><path d=\"M17.41 7.96l-1.37-1.37c-.4-.4-.92-.59-1.43-.59-.52 0-1.04.2-1.43.59L10.3 9.45l-7.72 7.72c-.78.78-.78 2.05 0 2.83L4 21.41c.39.39.9.59 1.41.59.51 0 1.02-.2 1.41-.59l7.78-7.78 2.81-2.81c.8-.78.8-2.07 0-2.86zM5.41 20L4 18.59l7.72-7.72 1.47 1.35L5.41 20z\"/>\n",
              "  </svg>\n",
              "      </button>\n",
              "\n",
              "\n",
              "\n",
              "    <div id=\"df-d182604b-dde9-46ba-bc3e-69f50ff8918b\">\n",
              "      <button class=\"colab-df-quickchart\" onclick=\"quickchart('df-d182604b-dde9-46ba-bc3e-69f50ff8918b')\"\n",
              "              title=\"Suggest charts.\"\n",
              "              style=\"display:none;\">\n",
              "\n",
              "<svg xmlns=\"http://www.w3.org/2000/svg\" height=\"24px\"viewBox=\"0 0 24 24\"\n",
              "     width=\"24px\">\n",
              "    <g>\n",
              "        <path d=\"M19 3H5c-1.1 0-2 .9-2 2v14c0 1.1.9 2 2 2h14c1.1 0 2-.9 2-2V5c0-1.1-.9-2-2-2zM9 17H7v-7h2v7zm4 0h-2V7h2v10zm4 0h-2v-4h2v4z\"/>\n",
              "    </g>\n",
              "</svg>\n",
              "      </button>\n",
              "    </div>\n",
              "\n",
              "<style>\n",
              "  .colab-df-quickchart {\n",
              "    background-color: #E8F0FE;\n",
              "    border: none;\n",
              "    border-radius: 50%;\n",
              "    cursor: pointer;\n",
              "    display: none;\n",
              "    fill: #1967D2;\n",
              "    height: 32px;\n",
              "    padding: 0 0 0 0;\n",
              "    width: 32px;\n",
              "  }\n",
              "\n",
              "  .colab-df-quickchart:hover {\n",
              "    background-color: #E2EBFA;\n",
              "    box-shadow: 0px 1px 2px rgba(60, 64, 67, 0.3), 0px 1px 3px 1px rgba(60, 64, 67, 0.15);\n",
              "    fill: #174EA6;\n",
              "  }\n",
              "\n",
              "  [theme=dark] .colab-df-quickchart {\n",
              "    background-color: #3B4455;\n",
              "    fill: #D2E3FC;\n",
              "  }\n",
              "\n",
              "  [theme=dark] .colab-df-quickchart:hover {\n",
              "    background-color: #434B5C;\n",
              "    box-shadow: 0px 1px 3px 1px rgba(0, 0, 0, 0.15);\n",
              "    filter: drop-shadow(0px 1px 2px rgba(0, 0, 0, 0.3));\n",
              "    fill: #FFFFFF;\n",
              "  }\n",
              "</style>\n",
              "\n",
              "    <script>\n",
              "      async function quickchart(key) {\n",
              "        const containerElement = document.querySelector('#' + key);\n",
              "        const charts = await google.colab.kernel.invokeFunction(\n",
              "            'suggestCharts', [key], {});\n",
              "      }\n",
              "    </script>\n",
              "\n",
              "      <script>\n",
              "\n",
              "function displayQuickchartButton(domScope) {\n",
              "  let quickchartButtonEl =\n",
              "    domScope.querySelector('#df-d182604b-dde9-46ba-bc3e-69f50ff8918b button.colab-df-quickchart');\n",
              "  quickchartButtonEl.style.display =\n",
              "    google.colab.kernel.accessAllowed ? 'block' : 'none';\n",
              "}\n",
              "\n",
              "        displayQuickchartButton(document);\n",
              "      </script>\n",
              "      <style>\n",
              "    .colab-df-container {\n",
              "      display:flex;\n",
              "      flex-wrap:wrap;\n",
              "      gap: 12px;\n",
              "    }\n",
              "\n",
              "    .colab-df-convert {\n",
              "      background-color: #E8F0FE;\n",
              "      border: none;\n",
              "      border-radius: 50%;\n",
              "      cursor: pointer;\n",
              "      display: none;\n",
              "      fill: #1967D2;\n",
              "      height: 32px;\n",
              "      padding: 0 0 0 0;\n",
              "      width: 32px;\n",
              "    }\n",
              "\n",
              "    .colab-df-convert:hover {\n",
              "      background-color: #E2EBFA;\n",
              "      box-shadow: 0px 1px 2px rgba(60, 64, 67, 0.3), 0px 1px 3px 1px rgba(60, 64, 67, 0.15);\n",
              "      fill: #174EA6;\n",
              "    }\n",
              "\n",
              "    [theme=dark] .colab-df-convert {\n",
              "      background-color: #3B4455;\n",
              "      fill: #D2E3FC;\n",
              "    }\n",
              "\n",
              "    [theme=dark] .colab-df-convert:hover {\n",
              "      background-color: #434B5C;\n",
              "      box-shadow: 0px 1px 3px 1px rgba(0, 0, 0, 0.15);\n",
              "      filter: drop-shadow(0px 1px 2px rgba(0, 0, 0, 0.3));\n",
              "      fill: #FFFFFF;\n",
              "    }\n",
              "  </style>\n",
              "\n",
              "      <script>\n",
              "        const buttonEl =\n",
              "          document.querySelector('#df-07bdcaf1-0436-4caa-872f-a49be3c90843 button.colab-df-convert');\n",
              "        buttonEl.style.display =\n",
              "          google.colab.kernel.accessAllowed ? 'block' : 'none';\n",
              "\n",
              "        async function convertToInteractive(key) {\n",
              "          const element = document.querySelector('#df-07bdcaf1-0436-4caa-872f-a49be3c90843');\n",
              "          const dataTable =\n",
              "            await google.colab.kernel.invokeFunction('convertToInteractive',\n",
              "                                                     [key], {});\n",
              "          if (!dataTable) return;\n",
              "\n",
              "          const docLinkHtml = 'Like what you see? Visit the ' +\n",
              "            '<a target=\"_blank\" href=https://colab.research.google.com/notebooks/data_table.ipynb>data table notebook</a>'\n",
              "            + ' to learn more about interactive tables.';\n",
              "          element.innerHTML = '';\n",
              "          dataTable['output_type'] = 'display_data';\n",
              "          await google.colab.output.renderOutput(dataTable, element);\n",
              "          const docLink = document.createElement('div');\n",
              "          docLink.innerHTML = docLinkHtml;\n",
              "          element.appendChild(docLink);\n",
              "        }\n",
              "      </script>\n",
              "    </div>\n",
              "  </div>\n"
            ]
          },
          "metadata": {},
          "execution_count": 7
        }
      ],
      "source": [
        "# Create New Data\n",
        "\n",
        "data_inf = {\n",
        "    'user_id' : 'a4403ddda8fcf9f3',\n",
        "    'age' : 38\t,\n",
        "    'gender' : 'F\t',\n",
        "    'region_category' : 'City',\n",
        "    'membership_category' : 'Gold Membership',\n",
        "    'joining_date' : '2016-05-25',\n",
        "    'joined_through_referral' : 'Yes',\n",
        "    'preferred_offer_types' : 'Without Offers',\n",
        "    'medium_of_operation' : 'Desktop',\n",
        "    'internet_option' : 'Wi-Fi',\n",
        "    'last_visit_time' : '17:07:57',\n",
        "    'days_since_last_login' :3,\n",
        "    'avg_time_spent' : 34,\n",
        "    'avg_transaction_value' : 30000,\n",
        "    'avg_frequency_login_days' : 24,\n",
        "    'points_in_wallet' : 700.93,\n",
        "    'used_special_discount' : 'Yes',\n",
        "    'offer_application_preference'  : 'No',\n",
        "    'past_complaint' : 'Yes',\n",
        "    'complaint_status' : 'Unsolved',\n",
        "    'feedback' : 'Poor Customer Service'\n",
        "}\n",
        "\n",
        "data_inf = pd.DataFrame([data_inf])\n",
        "data_inf"
      ]
    },
    {
      "cell_type": "markdown",
      "source": [
        "## 5-Predict"
      ],
      "metadata": {
        "id": "2ve6bowg7f6N"
      }
    },
    {
      "cell_type": "code",
      "execution_count": null,
      "metadata": {
        "id": "h11EAivYshx6"
      },
      "outputs": [],
      "source": [
        "# Preprocessing data inference\n",
        "data_final = preprocessor.transform(data_inf)"
      ]
    },
    {
      "cell_type": "code",
      "execution_count": null,
      "metadata": {
        "id": "oqdzOKalshx_",
        "outputId": "33622443-cc39-4df8-fdfc-d2f91d25faa8",
        "colab": {
          "base_uri": "https://localhost:8080/"
        }
      },
      "outputs": [
        {
          "output_type": "stream",
          "name": "stdout",
          "text": [
            "1/1 [==============================] - 0s 283ms/step\n",
            "Churn\n"
          ]
        }
      ],
      "source": [
        "# Prediksi data inference\n",
        "\n",
        "y_inf_pred = np.where(model_churn.predict(data_final) >= 0.5, 1, 0)\n",
        "y_inf_pred\n",
        "\n",
        "if y_inf_pred == 0:\n",
        "  print('Not Churn')\n",
        "else:\n",
        "  print('Churn')"
      ]
    }
  ]
}