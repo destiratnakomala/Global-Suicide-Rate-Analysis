{
  "nbformat": 4,
  "nbformat_minor": 0,
  "metadata": {
    "colab": {
      "provenance": [],
      "toc_visible": true
    },
    "kernelspec": {
      "name": "python3",
      "display_name": "Python 3"
    },
    "language_info": {
      "name": "python"
    }
  },
  "cells": [
    {
      "cell_type": "markdown",
      "metadata": {
        "id": "wnF3_9FDFGFF"
      },
      "source": [
        "# Graded Challenge 3\n",
        "\n",
        "`DESTI RATNA KOMALA  (RMT-020)`"
      ]
    },
    {
      "cell_type": "markdown",
      "source": [
        "## 1. Pendahuluan"
      ],
      "metadata": {
        "id": "5WBqz50dG-Q8"
      }
    },
    {
      "cell_type": "markdown",
      "metadata": {
        "id": "keZza50ldyoN"
      },
      "source": [
        "### 1.1 Judul\n",
        "\n",
        "\n",
        "**\"EVALUASI PERILAKU JUMLAH PENJUALAN TERHADAP PERIODE PERAYAAN MASAL PADA PERUSAHAAN THELOOK DI MARS UNTUK TAHUN 2022\"**\n",
        "\n"
      ]
    },
    {
      "cell_type": "markdown",
      "source": [
        "### 1.2 Latar Belakang\n",
        "\n",
        "TheLook adalah salah satu perusahaan e-commerce terbesar di Mars yang menjual produk *fashion* untuk seluruh kalangan baik wanita, pria, style kasual maupun formal.\n",
        "smart:\n",
        "\n",
        "Perusahaan TheLook ingin meningkatkan penjualan pada musim perayaan atau periode Q4. Hal tersebut dilakukan agar perusahaan TheLook dapat tumbuh dan berkembang menjadi lebih besar. Hal tersebut dilakukan dengan mencari banyak investor. Kenaikan total pendapatan per bulan sebesar 5% dapat menjadi track record yang sangat bagus bagi perubahan TheLook untuk menggait investor.\n"
      ],
      "metadata": {
        "id": "HpwUtZKwOLIM"
      }
    },
    {
      "cell_type": "markdown",
      "metadata": {
        "id": "khqF5pLSzwtA"
      },
      "source": [
        "### 1.3 Rumusan Masalah\n",
        "\n",
        "Perusahaan TheLook ingin meningkatkan penjualan pada musim perayaan dan bulan menjelang tahun baru atau pada kuartal 4. Namun perusahaan TheLook tidak mengetahui kategori produk mana yang volume produksinya harus ditingkatkan agar jumlah pendapatan dapat meningkat.\n",
        "\n",
        "Oleh karena itu, perusahaan akan mencari kategori produk tertinggi/terbanyak yang dibeli oleh pelanggan TheLook pada tiap bulannya untuk periode Q1 hingga Q3, untuk dijadikan acuan pada bulan-bulan selanjutnya. Volume produk pada kategori tersebut akan ditingkatkan jumlah produksinya untuk meningkatkan pendapatan pada perushaan TheLook\n",
        "\n"
      ]
    },
    {
      "cell_type": "markdown",
      "metadata": {
        "id": "PaUivFrX5C16"
      },
      "source": [
        "## 2. Overview Dataset\n"
      ]
    },
    {
      "cell_type": "markdown",
      "metadata": {
        "id": "mLQghlbJyeyH"
      },
      "source": [
        "### 2.1. Data dan Label pada`thelook_ecommerce`"
      ]
    },
    {
      "cell_type": "markdown",
      "metadata": {
        "id": "BgerEuxJ6Cyy"
      },
      "source": [
        "Dataset yang digunakan pada analisis ini adalah data `thelook__ecommerce` yang terdiri sub data berupa:\n",
        "\n",
        "<justify>\n",
        "\n",
        "|Sub Data thelook_ecommerce|Definisi|Jumlah (Kolom, baris)|\n",
        "|-|---|---|\n",
        "|users|seseorang yang memesan/membeli barang|(100000, 15)\n",
        "|orders|Permintaan pembelian barang dari pembeli|(125103, 9)\n",
        "|order_items|Barang-barang yang dipesan oleh pembeli|(181634, 11)\n",
        "|products|Sesuatu yang ditawarkan pada produsen|(29120, 9)\n",
        "|events|Semua laporan pemesanan, kerusakan, pengembalian,|(2428542, 13)|\n",
        "||pengiriman, dll yang berhubungan dengan produk||\n",
        "|inventory_items|Semua barang yang dimiliki oleh perusahaan |(490549, 12)\n",
        "||untuk dijual kepada pelanggan||\n",
        "|distribution_centers|Tempat pengumpulan dan penyimpanan barang agar dapat|(10, 4)\n",
        "||didistribusikan ke banyak retail dan grosir dalam satu waktu||\n",
        "\n",
        "\n",
        "Urutan proses dari users hingga ke distribution_centers\n",
        "\n",
        "Users ---> orders---> order_items--->  products ---> events---> inventory_items ---> distribution_centers"
      ]
    },
    {
      "cell_type": "markdown",
      "source": [
        "### 2.2 Quarter Per tahun"
      ],
      "metadata": {
        "id": "tzgX9MqvHHqM"
      }
    },
    {
      "cell_type": "markdown",
      "source": [
        "Berikut adalah informasi mengenai pembagian bulan berdasarkan quartan masing-masing.\n",
        "\n",
        "Tabel 2.2 quarter per tahun\n",
        "\n",
        "|Quartal |periode|\n",
        "|-----|----|\n",
        "|Q1|1 Januari - 31 Maret|\n",
        "|Q2|1 April -30 Juni|\n",
        "|Q3|1 Juli - 30 September|\n",
        "|Q4|1 Oktober - 31 Desember|"
      ],
      "metadata": {
        "id": "wjgdCP8InVIp"
      }
    },
    {
      "cell_type": "markdown",
      "source": [
        "\n",
        "\n",
        "---\n",
        "\n",
        "\n",
        "\n",
        "---\n",
        "\n"
      ],
      "metadata": {
        "id": "L8ugb7b0mV3K"
      }
    },
    {
      "cell_type": "markdown",
      "source": [
        "## 3. Ekplorasi Data"
      ],
      "metadata": {
        "id": "kiyJr-H4NAtC"
      }
    },
    {
      "cell_type": "markdown",
      "source": [
        "### 3.1 Menghubungkan Google colab dengan BigQuery SQL\n",
        "Sebelum dilakukan pengolahan data, data akan diakses menggunakan `bigquery-public-data` pada Google Cloud Big Query. Data yang digunakan berasal dari database `thelook_ecommerce` yang akan dikoneksikan pada`BigQuery` paa project id p0-gc3-389907. Berikut adalah proses pengambilan data ke google colab.\n"
      ],
      "metadata": {
        "id": "mXcDdCuE0pY6"
      }
    },
    {
      "cell_type": "code",
      "execution_count": 1,
      "metadata": {
        "id": "GouWN2ka7K-p",
        "colab": {
          "base_uri": "https://localhost:8080/"
        },
        "outputId": "e34f573f-df04-4403-d038-b33b0fee4f07"
      },
      "outputs": [
        {
          "output_type": "stream",
          "name": "stdout",
          "text": [
            "Authenticated\n"
          ]
        }
      ],
      "source": [
        "#hubungkan google.colab dengan bigquery\n",
        "from google.colab import auth\n",
        "auth.authenticate_user()\n",
        "print('Authenticated')"
      ]
    },
    {
      "cell_type": "code",
      "source": [
        "#Import data dari bigquery ke google.cloud\n",
        "from google.cloud import bigquery"
      ],
      "metadata": {
        "id": "AAN2NvDqFUUv"
      },
      "execution_count": 2,
      "outputs": []
    },
    {
      "cell_type": "code",
      "source": [
        "#project id yang ingin diimport adalah \"p0-gc3-389907\"\n",
        "project_id = \"p0-gc3-389907\"\n",
        "client = bigquery.Client(project=project_id)"
      ],
      "metadata": {
        "id": "eEK8DikIFPBV"
      },
      "execution_count": 3,
      "outputs": []
    },
    {
      "cell_type": "markdown",
      "source": [
        "Project_id pada bigquery pada analisis ini adalah `\"p0-gc3-389907\"` dan berdasarkan pemanggilan diatas, data tersebut berhasil terhubung dengan google colab."
      ],
      "metadata": {
        "id": "A-WeYqBo2996"
      }
    },
    {
      "cell_type": "markdown",
      "source": [
        "\n",
        "\n",
        "---\n",
        "\n"
      ],
      "metadata": {
        "id": "ankzsuaBOzhW"
      }
    },
    {
      "cell_type": "markdown",
      "source": [
        "### 3.2 Jumlah Transaksi berstatus *Complete* tiap bulan selama Q1 sampai Q3 di tahun 2022 (01 Januari 2022 - 30 September 2022)\n"
      ],
      "metadata": {
        "id": "LPysfLbuOkUg"
      }
    },
    {
      "cell_type": "markdown",
      "source": [
        "Sebelum mendefinisikan kriteria kesuksesan, perlu dilakukan pencarian jumlah transaksi pada data e-commerce sebagai berikut."
      ],
      "metadata": {
        "id": "wI9lWpQnVRjD"
      }
    },
    {
      "cell_type": "code",
      "source": [
        "#Mencari Jumlah transaksi yang berstatus complete\n",
        "No1 = client.query('''\n",
        "SELECT\n",
        "  extract(year from OI.created_at) as Tahun,\n",
        "  extract(month from OI.created_at) as Bulan,\n",
        "  count(OI.order_id) as Jumlah_Transaksi,\n",
        "FROM `bigquery-public-data.thelook_ecommerce.order_items` as OI\n",
        "LEFT JOIN `bigquery-public-data.thelook_ecommerce.orders` as O\n",
        "ON OI.user_id=O.user_id\n",
        "WHERE O.status='Complete' and OI.created_at BETWEEN \"2022-01-01\" AND \"2022-09-30\"\n",
        "GROUP BY Tahun, Bulan\n",
        "ORDER BY Tahun,Bulan ASC;\n",
        "''').to_dataframe()"
      ],
      "metadata": {
        "id": "iIu8schRKoR3"
      },
      "execution_count": 4,
      "outputs": []
    },
    {
      "cell_type": "code",
      "source": [
        "#Melihat berapa jumlah baris dan kolom pada No1\n",
        "No1.shape"
      ],
      "metadata": {
        "id": "NhEa8LNp3uqI",
        "colab": {
          "base_uri": "https://localhost:8080/"
        },
        "outputId": "62407c1e-f848-448a-f6b6-7b1076e6708f"
      },
      "execution_count": 5,
      "outputs": [
        {
          "output_type": "execute_result",
          "data": {
            "text/plain": [
              "(9, 3)"
            ]
          },
          "metadata": {},
          "execution_count": 5
        }
      ]
    },
    {
      "cell_type": "code",
      "source": [
        "#Tampilkan data pada No1\n",
        "No1"
      ],
      "metadata": {
        "id": "HsOxpbc73ajT",
        "colab": {
          "base_uri": "https://localhost:8080/",
          "height": 331
        },
        "outputId": "c36fb8ed-06de-4f93-fb45-829b839edd19"
      },
      "execution_count": 6,
      "outputs": [
        {
          "output_type": "execute_result",
          "data": {
            "text/plain": [
              "   Tahun  Bulan  Jumlah_Transaksi\n",
              "0   2022      1              1981\n",
              "1   2022      2              1863\n",
              "2   2022      3              2206\n",
              "3   2022      4              2131\n",
              "4   2022      5              2427\n",
              "5   2022      6              2547\n",
              "6   2022      7              2820\n",
              "7   2022      8              2785\n",
              "8   2022      9              2840"
            ],
            "text/html": [
              "\n",
              "  <div id=\"df-505d2ad3-8b97-4654-bc77-fb9a7566288b\">\n",
              "    <div class=\"colab-df-container\">\n",
              "      <div>\n",
              "<style scoped>\n",
              "    .dataframe tbody tr th:only-of-type {\n",
              "        vertical-align: middle;\n",
              "    }\n",
              "\n",
              "    .dataframe tbody tr th {\n",
              "        vertical-align: top;\n",
              "    }\n",
              "\n",
              "    .dataframe thead th {\n",
              "        text-align: right;\n",
              "    }\n",
              "</style>\n",
              "<table border=\"1\" class=\"dataframe\">\n",
              "  <thead>\n",
              "    <tr style=\"text-align: right;\">\n",
              "      <th></th>\n",
              "      <th>Tahun</th>\n",
              "      <th>Bulan</th>\n",
              "      <th>Jumlah_Transaksi</th>\n",
              "    </tr>\n",
              "  </thead>\n",
              "  <tbody>\n",
              "    <tr>\n",
              "      <th>0</th>\n",
              "      <td>2022</td>\n",
              "      <td>1</td>\n",
              "      <td>1981</td>\n",
              "    </tr>\n",
              "    <tr>\n",
              "      <th>1</th>\n",
              "      <td>2022</td>\n",
              "      <td>2</td>\n",
              "      <td>1863</td>\n",
              "    </tr>\n",
              "    <tr>\n",
              "      <th>2</th>\n",
              "      <td>2022</td>\n",
              "      <td>3</td>\n",
              "      <td>2206</td>\n",
              "    </tr>\n",
              "    <tr>\n",
              "      <th>3</th>\n",
              "      <td>2022</td>\n",
              "      <td>4</td>\n",
              "      <td>2131</td>\n",
              "    </tr>\n",
              "    <tr>\n",
              "      <th>4</th>\n",
              "      <td>2022</td>\n",
              "      <td>5</td>\n",
              "      <td>2427</td>\n",
              "    </tr>\n",
              "    <tr>\n",
              "      <th>5</th>\n",
              "      <td>2022</td>\n",
              "      <td>6</td>\n",
              "      <td>2547</td>\n",
              "    </tr>\n",
              "    <tr>\n",
              "      <th>6</th>\n",
              "      <td>2022</td>\n",
              "      <td>7</td>\n",
              "      <td>2820</td>\n",
              "    </tr>\n",
              "    <tr>\n",
              "      <th>7</th>\n",
              "      <td>2022</td>\n",
              "      <td>8</td>\n",
              "      <td>2785</td>\n",
              "    </tr>\n",
              "    <tr>\n",
              "      <th>8</th>\n",
              "      <td>2022</td>\n",
              "      <td>9</td>\n",
              "      <td>2840</td>\n",
              "    </tr>\n",
              "  </tbody>\n",
              "</table>\n",
              "</div>\n",
              "      <button class=\"colab-df-convert\" onclick=\"convertToInteractive('df-505d2ad3-8b97-4654-bc77-fb9a7566288b')\"\n",
              "              title=\"Convert this dataframe to an interactive table.\"\n",
              "              style=\"display:none;\">\n",
              "        \n",
              "  <svg xmlns=\"http://www.w3.org/2000/svg\" height=\"24px\"viewBox=\"0 0 24 24\"\n",
              "       width=\"24px\">\n",
              "    <path d=\"M0 0h24v24H0V0z\" fill=\"none\"/>\n",
              "    <path d=\"M18.56 5.44l.94 2.06.94-2.06 2.06-.94-2.06-.94-.94-2.06-.94 2.06-2.06.94zm-11 1L8.5 8.5l.94-2.06 2.06-.94-2.06-.94L8.5 2.5l-.94 2.06-2.06.94zm10 10l.94 2.06.94-2.06 2.06-.94-2.06-.94-.94-2.06-.94 2.06-2.06.94z\"/><path d=\"M17.41 7.96l-1.37-1.37c-.4-.4-.92-.59-1.43-.59-.52 0-1.04.2-1.43.59L10.3 9.45l-7.72 7.72c-.78.78-.78 2.05 0 2.83L4 21.41c.39.39.9.59 1.41.59.51 0 1.02-.2 1.41-.59l7.78-7.78 2.81-2.81c.8-.78.8-2.07 0-2.86zM5.41 20L4 18.59l7.72-7.72 1.47 1.35L5.41 20z\"/>\n",
              "  </svg>\n",
              "      </button>\n",
              "      \n",
              "  <style>\n",
              "    .colab-df-container {\n",
              "      display:flex;\n",
              "      flex-wrap:wrap;\n",
              "      gap: 12px;\n",
              "    }\n",
              "\n",
              "    .colab-df-convert {\n",
              "      background-color: #E8F0FE;\n",
              "      border: none;\n",
              "      border-radius: 50%;\n",
              "      cursor: pointer;\n",
              "      display: none;\n",
              "      fill: #1967D2;\n",
              "      height: 32px;\n",
              "      padding: 0 0 0 0;\n",
              "      width: 32px;\n",
              "    }\n",
              "\n",
              "    .colab-df-convert:hover {\n",
              "      background-color: #E2EBFA;\n",
              "      box-shadow: 0px 1px 2px rgba(60, 64, 67, 0.3), 0px 1px 3px 1px rgba(60, 64, 67, 0.15);\n",
              "      fill: #174EA6;\n",
              "    }\n",
              "\n",
              "    [theme=dark] .colab-df-convert {\n",
              "      background-color: #3B4455;\n",
              "      fill: #D2E3FC;\n",
              "    }\n",
              "\n",
              "    [theme=dark] .colab-df-convert:hover {\n",
              "      background-color: #434B5C;\n",
              "      box-shadow: 0px 1px 3px 1px rgba(0, 0, 0, 0.15);\n",
              "      filter: drop-shadow(0px 1px 2px rgba(0, 0, 0, 0.3));\n",
              "      fill: #FFFFFF;\n",
              "    }\n",
              "  </style>\n",
              "\n",
              "      <script>\n",
              "        const buttonEl =\n",
              "          document.querySelector('#df-505d2ad3-8b97-4654-bc77-fb9a7566288b button.colab-df-convert');\n",
              "        buttonEl.style.display =\n",
              "          google.colab.kernel.accessAllowed ? 'block' : 'none';\n",
              "\n",
              "        async function convertToInteractive(key) {\n",
              "          const element = document.querySelector('#df-505d2ad3-8b97-4654-bc77-fb9a7566288b');\n",
              "          const dataTable =\n",
              "            await google.colab.kernel.invokeFunction('convertToInteractive',\n",
              "                                                     [key], {});\n",
              "          if (!dataTable) return;\n",
              "\n",
              "          const docLinkHtml = 'Like what you see? Visit the ' +\n",
              "            '<a target=\"_blank\" href=https://colab.research.google.com/notebooks/data_table.ipynb>data table notebook</a>'\n",
              "            + ' to learn more about interactive tables.';\n",
              "          element.innerHTML = '';\n",
              "          dataTable['output_type'] = 'display_data';\n",
              "          await google.colab.output.renderOutput(dataTable, element);\n",
              "          const docLink = document.createElement('div');\n",
              "          docLink.innerHTML = docLinkHtml;\n",
              "          element.appendChild(docLink);\n",
              "        }\n",
              "      </script>\n",
              "    </div>\n",
              "  </div>\n",
              "  "
            ]
          },
          "metadata": {},
          "execution_count": 6
        }
      ]
    },
    {
      "cell_type": "markdown",
      "source": [
        "Berdasarkan data tersebut, jumlah transaksi yang berstatus `Complete` tiap bulannya selama Q1 hingga Q3 (01 Januari 2022 - 30 September 2022):\n",
        "* Terjadi peningkatan jumlah transaksi tiap bulannya\n",
        "* Meskipun demikian terlihat bahwa fluktuasi tidak tentu tetap terjadi tiap bulannya.\n",
        "* Pada bulan Januari ke Febuari terjadi penurunan secara drastis dari 1981 menjadi 1863 jumlah transaksi. Hal ini dipengaruhi oleh para pelanggan sudah membeli seluruh produk yang mereka inginkan pada bulan-bulan perayaan yaitu pada bulan Desember dan Januari seperit perayaan natal dan tahun baru.\n",
        "\n"
      ],
      "metadata": {
        "id": "q_inNYGL36zg"
      }
    },
    {
      "cell_type": "markdown",
      "source": [
        "\n",
        "\n",
        "---\n",
        "\n"
      ],
      "metadata": {
        "id": "fKcp6JqhJ_A3"
      }
    },
    {
      "cell_type": "markdown",
      "source": [
        "### 3.3 Total Penjualan berstatus *Complete* tiap bulan selama Q1 sampai Q3 di tahun 2022 (01 Januari 2022 - 30 September 2022)\n"
      ],
      "metadata": {
        "id": "CMa3_unJEBJz"
      }
    },
    {
      "cell_type": "code",
      "source": [
        "#Mencari Total penjualan tiap bulan selama Q1 hingga Q3\n",
        "No2 = client.query('''\n",
        "SELECT\n",
        "  extract(year from OI.created_at) as Tahun,\n",
        "  extract(month from OI.created_at) as Bulan,\n",
        "  SUM(OI.sale_price * O.num_of_item) as Jumlah_Penjualan_USD,\n",
        "FROM `bigquery-public-data.thelook_ecommerce.order_items` as OI\n",
        "LEFT JOIN `bigquery-public-data.thelook_ecommerce.orders` as O\n",
        "ON OI.user_id=O.user_id\n",
        "WHERE O.status='Complete' and OI.created_at BETWEEN \"2022-01-01\" AND \"2022-09-30\"\n",
        "GROUP BY Tahun, Bulan\n",
        "ORDER BY Tahun,Bulan ASC;\n",
        "''').to_dataframe()"
      ],
      "metadata": {
        "id": "_SKehC_gEBJ0"
      },
      "execution_count": 7,
      "outputs": []
    },
    {
      "cell_type": "code",
      "source": [
        "#Melihat berapa jumlah baris dan kolom pada No1\n",
        "No2.shape"
      ],
      "metadata": {
        "id": "wio9m5bwEBJ1",
        "colab": {
          "base_uri": "https://localhost:8080/"
        },
        "outputId": "214c9616-d339-4757-c852-4aaaec5a6676"
      },
      "execution_count": 8,
      "outputs": [
        {
          "output_type": "execute_result",
          "data": {
            "text/plain": [
              "(9, 3)"
            ]
          },
          "metadata": {},
          "execution_count": 8
        }
      ]
    },
    {
      "cell_type": "code",
      "source": [
        "#Tampilkan data pada No2\n",
        "No2"
      ],
      "metadata": {
        "id": "Oyy8x9uyEBJ2",
        "colab": {
          "base_uri": "https://localhost:8080/",
          "height": 331
        },
        "outputId": "67d27859-2f19-457d-c9d1-5b65cd7af2e9"
      },
      "execution_count": 9,
      "outputs": [
        {
          "output_type": "execute_result",
          "data": {
            "text/plain": [
              "   Tahun  Bulan  Jumlah_Penjualan_USD\n",
              "0   2022      1         205187.140244\n",
              "1   2022      2         192272.470221\n",
              "2   2022      3         222751.000460\n",
              "3   2022      4         204026.470322\n",
              "4   2022      5         230494.610058\n",
              "5   2022      6         259981.100263\n",
              "6   2022      7         277688.790208\n",
              "7   2022      8         277813.770223\n",
              "8   2022      9         273534.490132"
            ],
            "text/html": [
              "\n",
              "  <div id=\"df-de7a6b6c-dcfa-424f-9d92-54603219b961\">\n",
              "    <div class=\"colab-df-container\">\n",
              "      <div>\n",
              "<style scoped>\n",
              "    .dataframe tbody tr th:only-of-type {\n",
              "        vertical-align: middle;\n",
              "    }\n",
              "\n",
              "    .dataframe tbody tr th {\n",
              "        vertical-align: top;\n",
              "    }\n",
              "\n",
              "    .dataframe thead th {\n",
              "        text-align: right;\n",
              "    }\n",
              "</style>\n",
              "<table border=\"1\" class=\"dataframe\">\n",
              "  <thead>\n",
              "    <tr style=\"text-align: right;\">\n",
              "      <th></th>\n",
              "      <th>Tahun</th>\n",
              "      <th>Bulan</th>\n",
              "      <th>Jumlah_Penjualan_USD</th>\n",
              "    </tr>\n",
              "  </thead>\n",
              "  <tbody>\n",
              "    <tr>\n",
              "      <th>0</th>\n",
              "      <td>2022</td>\n",
              "      <td>1</td>\n",
              "      <td>205187.140244</td>\n",
              "    </tr>\n",
              "    <tr>\n",
              "      <th>1</th>\n",
              "      <td>2022</td>\n",
              "      <td>2</td>\n",
              "      <td>192272.470221</td>\n",
              "    </tr>\n",
              "    <tr>\n",
              "      <th>2</th>\n",
              "      <td>2022</td>\n",
              "      <td>3</td>\n",
              "      <td>222751.000460</td>\n",
              "    </tr>\n",
              "    <tr>\n",
              "      <th>3</th>\n",
              "      <td>2022</td>\n",
              "      <td>4</td>\n",
              "      <td>204026.470322</td>\n",
              "    </tr>\n",
              "    <tr>\n",
              "      <th>4</th>\n",
              "      <td>2022</td>\n",
              "      <td>5</td>\n",
              "      <td>230494.610058</td>\n",
              "    </tr>\n",
              "    <tr>\n",
              "      <th>5</th>\n",
              "      <td>2022</td>\n",
              "      <td>6</td>\n",
              "      <td>259981.100263</td>\n",
              "    </tr>\n",
              "    <tr>\n",
              "      <th>6</th>\n",
              "      <td>2022</td>\n",
              "      <td>7</td>\n",
              "      <td>277688.790208</td>\n",
              "    </tr>\n",
              "    <tr>\n",
              "      <th>7</th>\n",
              "      <td>2022</td>\n",
              "      <td>8</td>\n",
              "      <td>277813.770223</td>\n",
              "    </tr>\n",
              "    <tr>\n",
              "      <th>8</th>\n",
              "      <td>2022</td>\n",
              "      <td>9</td>\n",
              "      <td>273534.490132</td>\n",
              "    </tr>\n",
              "  </tbody>\n",
              "</table>\n",
              "</div>\n",
              "      <button class=\"colab-df-convert\" onclick=\"convertToInteractive('df-de7a6b6c-dcfa-424f-9d92-54603219b961')\"\n",
              "              title=\"Convert this dataframe to an interactive table.\"\n",
              "              style=\"display:none;\">\n",
              "        \n",
              "  <svg xmlns=\"http://www.w3.org/2000/svg\" height=\"24px\"viewBox=\"0 0 24 24\"\n",
              "       width=\"24px\">\n",
              "    <path d=\"M0 0h24v24H0V0z\" fill=\"none\"/>\n",
              "    <path d=\"M18.56 5.44l.94 2.06.94-2.06 2.06-.94-2.06-.94-.94-2.06-.94 2.06-2.06.94zm-11 1L8.5 8.5l.94-2.06 2.06-.94-2.06-.94L8.5 2.5l-.94 2.06-2.06.94zm10 10l.94 2.06.94-2.06 2.06-.94-2.06-.94-.94-2.06-.94 2.06-2.06.94z\"/><path d=\"M17.41 7.96l-1.37-1.37c-.4-.4-.92-.59-1.43-.59-.52 0-1.04.2-1.43.59L10.3 9.45l-7.72 7.72c-.78.78-.78 2.05 0 2.83L4 21.41c.39.39.9.59 1.41.59.51 0 1.02-.2 1.41-.59l7.78-7.78 2.81-2.81c.8-.78.8-2.07 0-2.86zM5.41 20L4 18.59l7.72-7.72 1.47 1.35L5.41 20z\"/>\n",
              "  </svg>\n",
              "      </button>\n",
              "      \n",
              "  <style>\n",
              "    .colab-df-container {\n",
              "      display:flex;\n",
              "      flex-wrap:wrap;\n",
              "      gap: 12px;\n",
              "    }\n",
              "\n",
              "    .colab-df-convert {\n",
              "      background-color: #E8F0FE;\n",
              "      border: none;\n",
              "      border-radius: 50%;\n",
              "      cursor: pointer;\n",
              "      display: none;\n",
              "      fill: #1967D2;\n",
              "      height: 32px;\n",
              "      padding: 0 0 0 0;\n",
              "      width: 32px;\n",
              "    }\n",
              "\n",
              "    .colab-df-convert:hover {\n",
              "      background-color: #E2EBFA;\n",
              "      box-shadow: 0px 1px 2px rgba(60, 64, 67, 0.3), 0px 1px 3px 1px rgba(60, 64, 67, 0.15);\n",
              "      fill: #174EA6;\n",
              "    }\n",
              "\n",
              "    [theme=dark] .colab-df-convert {\n",
              "      background-color: #3B4455;\n",
              "      fill: #D2E3FC;\n",
              "    }\n",
              "\n",
              "    [theme=dark] .colab-df-convert:hover {\n",
              "      background-color: #434B5C;\n",
              "      box-shadow: 0px 1px 3px 1px rgba(0, 0, 0, 0.15);\n",
              "      filter: drop-shadow(0px 1px 2px rgba(0, 0, 0, 0.3));\n",
              "      fill: #FFFFFF;\n",
              "    }\n",
              "  </style>\n",
              "\n",
              "      <script>\n",
              "        const buttonEl =\n",
              "          document.querySelector('#df-de7a6b6c-dcfa-424f-9d92-54603219b961 button.colab-df-convert');\n",
              "        buttonEl.style.display =\n",
              "          google.colab.kernel.accessAllowed ? 'block' : 'none';\n",
              "\n",
              "        async function convertToInteractive(key) {\n",
              "          const element = document.querySelector('#df-de7a6b6c-dcfa-424f-9d92-54603219b961');\n",
              "          const dataTable =\n",
              "            await google.colab.kernel.invokeFunction('convertToInteractive',\n",
              "                                                     [key], {});\n",
              "          if (!dataTable) return;\n",
              "\n",
              "          const docLinkHtml = 'Like what you see? Visit the ' +\n",
              "            '<a target=\"_blank\" href=https://colab.research.google.com/notebooks/data_table.ipynb>data table notebook</a>'\n",
              "            + ' to learn more about interactive tables.';\n",
              "          element.innerHTML = '';\n",
              "          dataTable['output_type'] = 'display_data';\n",
              "          await google.colab.output.renderOutput(dataTable, element);\n",
              "          const docLink = document.createElement('div');\n",
              "          docLink.innerHTML = docLinkHtml;\n",
              "          element.appendChild(docLink);\n",
              "        }\n",
              "      </script>\n",
              "    </div>\n",
              "  </div>\n",
              "  "
            ]
          },
          "metadata": {},
          "execution_count": 9
        }
      ]
    },
    {
      "cell_type": "markdown",
      "source": [
        "Jumlah penjualan yang berstatus `Complete` tiap bulan selama Q1 hingga Q3 (01 Januari 2022 - 30 September 2022):\n",
        "* Jumlah penjualan mengalami peningkatan tiap bulannya, namun fluktuasi tidak tentu tetap terjadi.\n",
        "* Pada bulan Maret ke April terjadi penurunan total penjualan yang sangat signifikan yaitu dari `$222.751` menjadi `$204.026` atau kehilangan sekitar `$18.545` dari bulan sebelumnya, meskipun total transaksi `complete` tidak mengalami penurunan, melainkan peningkatan.\n",
        "* Hal ini diperkirakan terjadi karena tidak ada perayaan masal di sekitar bulan April dan kebutuhan telah terpenuhi di bulan Maret.\n",
        "\n"
      ],
      "metadata": {
        "id": "hYiO3xpHEBJ3"
      }
    },
    {
      "cell_type": "markdown",
      "source": [
        "\n",
        "\n",
        "---\n",
        "\n"
      ],
      "metadata": {
        "id": "ceV77e3_KATu"
      }
    },
    {
      "cell_type": "markdown",
      "source": [
        "### 3.4 Jumlah Users berstatus *Complete* tiap bulan selama Q1 sampai Q3 di tahun 2022 (01 Januari 2022 - 30 September 2022)\n"
      ],
      "metadata": {
        "id": "Z8SGmtgdDI2w"
      }
    },
    {
      "cell_type": "code",
      "source": [
        "#Mencari jumlah users yang melakukan transaksi pada Q1 hingga Q3\n",
        "No3 = client.query('''\n",
        "SELECT\n",
        "  extract(year from OI.created_at) as Tahun,\n",
        "  extract(month from OI.created_at) as Bulan,\n",
        "  count(DISTINCT U.id) as Users,\n",
        "FROM `bigquery-public-data.thelook_ecommerce.order_items` as OI\n",
        "LEFT JOIN `bigquery-public-data.thelook_ecommerce.users` as U\n",
        "ON OI.user_id=U.id\n",
        "WHERE OI.status='Complete' and OI.created_at BETWEEN \"2022-01-01\" AND \"2022-09-30\"\n",
        "GROUP BY Tahun, Bulan\n",
        "ORDER BY Tahun,Bulan ASC;\n",
        "''').to_dataframe()\n",
        "No3"
      ],
      "metadata": {
        "id": "0t2aX1gpDI3a",
        "colab": {
          "base_uri": "https://localhost:8080/",
          "height": 331
        },
        "outputId": "6b1ebd7f-b878-42a4-f83e-a8ced414a9d4"
      },
      "execution_count": 10,
      "outputs": [
        {
          "output_type": "execute_result",
          "data": {
            "text/plain": [
              "   Tahun  Bulan  Users\n",
              "0   2022      1    649\n",
              "1   2022      2    620\n",
              "2   2022      3    767\n",
              "3   2022      4    745\n",
              "4   2022      5    825\n",
              "5   2022      6    890\n",
              "6   2022      7    920\n",
              "7   2022      8    978\n",
              "8   2022      9   1029"
            ],
            "text/html": [
              "\n",
              "  <div id=\"df-22a352e8-09b8-4dc9-b3ee-503c9bd1fb34\">\n",
              "    <div class=\"colab-df-container\">\n",
              "      <div>\n",
              "<style scoped>\n",
              "    .dataframe tbody tr th:only-of-type {\n",
              "        vertical-align: middle;\n",
              "    }\n",
              "\n",
              "    .dataframe tbody tr th {\n",
              "        vertical-align: top;\n",
              "    }\n",
              "\n",
              "    .dataframe thead th {\n",
              "        text-align: right;\n",
              "    }\n",
              "</style>\n",
              "<table border=\"1\" class=\"dataframe\">\n",
              "  <thead>\n",
              "    <tr style=\"text-align: right;\">\n",
              "      <th></th>\n",
              "      <th>Tahun</th>\n",
              "      <th>Bulan</th>\n",
              "      <th>Users</th>\n",
              "    </tr>\n",
              "  </thead>\n",
              "  <tbody>\n",
              "    <tr>\n",
              "      <th>0</th>\n",
              "      <td>2022</td>\n",
              "      <td>1</td>\n",
              "      <td>649</td>\n",
              "    </tr>\n",
              "    <tr>\n",
              "      <th>1</th>\n",
              "      <td>2022</td>\n",
              "      <td>2</td>\n",
              "      <td>620</td>\n",
              "    </tr>\n",
              "    <tr>\n",
              "      <th>2</th>\n",
              "      <td>2022</td>\n",
              "      <td>3</td>\n",
              "      <td>767</td>\n",
              "    </tr>\n",
              "    <tr>\n",
              "      <th>3</th>\n",
              "      <td>2022</td>\n",
              "      <td>4</td>\n",
              "      <td>745</td>\n",
              "    </tr>\n",
              "    <tr>\n",
              "      <th>4</th>\n",
              "      <td>2022</td>\n",
              "      <td>5</td>\n",
              "      <td>825</td>\n",
              "    </tr>\n",
              "    <tr>\n",
              "      <th>5</th>\n",
              "      <td>2022</td>\n",
              "      <td>6</td>\n",
              "      <td>890</td>\n",
              "    </tr>\n",
              "    <tr>\n",
              "      <th>6</th>\n",
              "      <td>2022</td>\n",
              "      <td>7</td>\n",
              "      <td>920</td>\n",
              "    </tr>\n",
              "    <tr>\n",
              "      <th>7</th>\n",
              "      <td>2022</td>\n",
              "      <td>8</td>\n",
              "      <td>978</td>\n",
              "    </tr>\n",
              "    <tr>\n",
              "      <th>8</th>\n",
              "      <td>2022</td>\n",
              "      <td>9</td>\n",
              "      <td>1029</td>\n",
              "    </tr>\n",
              "  </tbody>\n",
              "</table>\n",
              "</div>\n",
              "      <button class=\"colab-df-convert\" onclick=\"convertToInteractive('df-22a352e8-09b8-4dc9-b3ee-503c9bd1fb34')\"\n",
              "              title=\"Convert this dataframe to an interactive table.\"\n",
              "              style=\"display:none;\">\n",
              "        \n",
              "  <svg xmlns=\"http://www.w3.org/2000/svg\" height=\"24px\"viewBox=\"0 0 24 24\"\n",
              "       width=\"24px\">\n",
              "    <path d=\"M0 0h24v24H0V0z\" fill=\"none\"/>\n",
              "    <path d=\"M18.56 5.44l.94 2.06.94-2.06 2.06-.94-2.06-.94-.94-2.06-.94 2.06-2.06.94zm-11 1L8.5 8.5l.94-2.06 2.06-.94-2.06-.94L8.5 2.5l-.94 2.06-2.06.94zm10 10l.94 2.06.94-2.06 2.06-.94-2.06-.94-.94-2.06-.94 2.06-2.06.94z\"/><path d=\"M17.41 7.96l-1.37-1.37c-.4-.4-.92-.59-1.43-.59-.52 0-1.04.2-1.43.59L10.3 9.45l-7.72 7.72c-.78.78-.78 2.05 0 2.83L4 21.41c.39.39.9.59 1.41.59.51 0 1.02-.2 1.41-.59l7.78-7.78 2.81-2.81c.8-.78.8-2.07 0-2.86zM5.41 20L4 18.59l7.72-7.72 1.47 1.35L5.41 20z\"/>\n",
              "  </svg>\n",
              "      </button>\n",
              "      \n",
              "  <style>\n",
              "    .colab-df-container {\n",
              "      display:flex;\n",
              "      flex-wrap:wrap;\n",
              "      gap: 12px;\n",
              "    }\n",
              "\n",
              "    .colab-df-convert {\n",
              "      background-color: #E8F0FE;\n",
              "      border: none;\n",
              "      border-radius: 50%;\n",
              "      cursor: pointer;\n",
              "      display: none;\n",
              "      fill: #1967D2;\n",
              "      height: 32px;\n",
              "      padding: 0 0 0 0;\n",
              "      width: 32px;\n",
              "    }\n",
              "\n",
              "    .colab-df-convert:hover {\n",
              "      background-color: #E2EBFA;\n",
              "      box-shadow: 0px 1px 2px rgba(60, 64, 67, 0.3), 0px 1px 3px 1px rgba(60, 64, 67, 0.15);\n",
              "      fill: #174EA6;\n",
              "    }\n",
              "\n",
              "    [theme=dark] .colab-df-convert {\n",
              "      background-color: #3B4455;\n",
              "      fill: #D2E3FC;\n",
              "    }\n",
              "\n",
              "    [theme=dark] .colab-df-convert:hover {\n",
              "      background-color: #434B5C;\n",
              "      box-shadow: 0px 1px 3px 1px rgba(0, 0, 0, 0.15);\n",
              "      filter: drop-shadow(0px 1px 2px rgba(0, 0, 0, 0.3));\n",
              "      fill: #FFFFFF;\n",
              "    }\n",
              "  </style>\n",
              "\n",
              "      <script>\n",
              "        const buttonEl =\n",
              "          document.querySelector('#df-22a352e8-09b8-4dc9-b3ee-503c9bd1fb34 button.colab-df-convert');\n",
              "        buttonEl.style.display =\n",
              "          google.colab.kernel.accessAllowed ? 'block' : 'none';\n",
              "\n",
              "        async function convertToInteractive(key) {\n",
              "          const element = document.querySelector('#df-22a352e8-09b8-4dc9-b3ee-503c9bd1fb34');\n",
              "          const dataTable =\n",
              "            await google.colab.kernel.invokeFunction('convertToInteractive',\n",
              "                                                     [key], {});\n",
              "          if (!dataTable) return;\n",
              "\n",
              "          const docLinkHtml = 'Like what you see? Visit the ' +\n",
              "            '<a target=\"_blank\" href=https://colab.research.google.com/notebooks/data_table.ipynb>data table notebook</a>'\n",
              "            + ' to learn more about interactive tables.';\n",
              "          element.innerHTML = '';\n",
              "          dataTable['output_type'] = 'display_data';\n",
              "          await google.colab.output.renderOutput(dataTable, element);\n",
              "          const docLink = document.createElement('div');\n",
              "          docLink.innerHTML = docLinkHtml;\n",
              "          element.appendChild(docLink);\n",
              "        }\n",
              "      </script>\n",
              "    </div>\n",
              "  </div>\n",
              "  "
            ]
          },
          "metadata": {},
          "execution_count": 10
        }
      ]
    },
    {
      "cell_type": "markdown",
      "source": [
        "Jumlah Users yang berstatus `Complete` tiap bulan selama Q1 hingga Q3 (01 Januari 2022 - 30 September 2022):\n",
        "* Jumlah Users mengalami peningkatan tiap bulannya, namun fluktuasi tidak tentu tetap terjadi.\n",
        "* Pada bulan Febuari, jumlah Users mengalami penurunan yang cukup signifikan sebesar 86 Users.\n",
        "* Hal ini sejalan dengan penurunan jumlah transaksi pada bulan Febuari dan dikarenakan kebutuhan yang diinginkan pengguna telah dibeli pada bulan-bulan perayaan seperti Desember dan Januari"
      ],
      "metadata": {
        "id": "igZx2plifalr"
      }
    },
    {
      "cell_type": "markdown",
      "source": [
        "\n",
        "\n",
        "---\n",
        "\n"
      ],
      "metadata": {
        "id": "xkbU4KCqKBtl"
      }
    },
    {
      "cell_type": "markdown",
      "source": [
        "### 3.5 Kategori Produk Terbanyak berstatus *Complete* tiap bulan selama Q1 sampai Q3 di tahun 2022 (01 Januari 2022 - 30 September 2022)"
      ],
      "metadata": {
        "id": "pflb1QV6Fx1L"
      }
    },
    {
      "cell_type": "code",
      "source": [
        "#Mencari kategori produk terbanyak tiap bulan\n",
        "No4 = client.query('''\n",
        "    SELECT Bulan, kategori, Jumlah_Item\n",
        "    FROM(\n",
        "        SELECT\n",
        "            x.*,\n",
        "            ROW_NUMBER() OVER(PARTITION BY Bulan ORDER BY Jumlah_Item desc) rn\n",
        "\n",
        "          FROM (\n",
        "                SELECT\n",
        "                extract(year from OI.created_at) as Tahun,\n",
        "                extract(month from OI.created_at) as Bulan,\n",
        "                P.category as kategori,\n",
        "                sum(O.num_of_item) as Jumlah_Item\n",
        "              FROM `bigquery-public-data.thelook_ecommerce.order_items` as OI\n",
        "                LEFT JOIN `bigquery-public-data.thelook_ecommerce.orders` as O\n",
        "                ON OI.order_id=O.order_id\n",
        "                LEFT JOIN `bigquery-public-data.thelook_ecommerce.products` as P\n",
        "                ON OI.product_id=P.id\n",
        "              WHERE O.status='Complete' and OI.created_at BETWEEN \"2022-01-01\" AND \"2022-09-30\"\n",
        "              GROUP BY Tahun, Bulan, kategori\n",
        "          ) x\n",
        "          ORDER BY Bulan\n",
        "        )y\n",
        "    WHERE rn =1\n",
        "''').to_dataframe()\n",
        "No4"
      ],
      "metadata": {
        "colab": {
          "base_uri": "https://localhost:8080/",
          "height": 331
        },
        "id": "EMEGyX89inp1",
        "outputId": "12d1b9bc-bba6-41b6-fcb2-e8513be31d67"
      },
      "execution_count": 11,
      "outputs": [
        {
          "output_type": "execute_result",
          "data": {
            "text/plain": [
              "   Bulan                       kategori  Jumlah_Item\n",
              "0      1                    Tops & Tees          136\n",
              "1      2                    Tops & Tees          132\n",
              "2      3                         Shorts          146\n",
              "3      4                      Intimates          171\n",
              "4      5  Fashion Hoodies & Sweatshirts          152\n",
              "5      6                         Shorts          191\n",
              "6      7                      Intimates          217\n",
              "7      8                      Intimates          233\n",
              "8      9  Fashion Hoodies & Sweatshirts          192"
            ],
            "text/html": [
              "\n",
              "  <div id=\"df-bc46041e-68be-435e-bea5-e5665d033546\">\n",
              "    <div class=\"colab-df-container\">\n",
              "      <div>\n",
              "<style scoped>\n",
              "    .dataframe tbody tr th:only-of-type {\n",
              "        vertical-align: middle;\n",
              "    }\n",
              "\n",
              "    .dataframe tbody tr th {\n",
              "        vertical-align: top;\n",
              "    }\n",
              "\n",
              "    .dataframe thead th {\n",
              "        text-align: right;\n",
              "    }\n",
              "</style>\n",
              "<table border=\"1\" class=\"dataframe\">\n",
              "  <thead>\n",
              "    <tr style=\"text-align: right;\">\n",
              "      <th></th>\n",
              "      <th>Bulan</th>\n",
              "      <th>kategori</th>\n",
              "      <th>Jumlah_Item</th>\n",
              "    </tr>\n",
              "  </thead>\n",
              "  <tbody>\n",
              "    <tr>\n",
              "      <th>0</th>\n",
              "      <td>1</td>\n",
              "      <td>Tops &amp; Tees</td>\n",
              "      <td>136</td>\n",
              "    </tr>\n",
              "    <tr>\n",
              "      <th>1</th>\n",
              "      <td>2</td>\n",
              "      <td>Tops &amp; Tees</td>\n",
              "      <td>132</td>\n",
              "    </tr>\n",
              "    <tr>\n",
              "      <th>2</th>\n",
              "      <td>3</td>\n",
              "      <td>Shorts</td>\n",
              "      <td>146</td>\n",
              "    </tr>\n",
              "    <tr>\n",
              "      <th>3</th>\n",
              "      <td>4</td>\n",
              "      <td>Intimates</td>\n",
              "      <td>171</td>\n",
              "    </tr>\n",
              "    <tr>\n",
              "      <th>4</th>\n",
              "      <td>5</td>\n",
              "      <td>Fashion Hoodies &amp; Sweatshirts</td>\n",
              "      <td>152</td>\n",
              "    </tr>\n",
              "    <tr>\n",
              "      <th>5</th>\n",
              "      <td>6</td>\n",
              "      <td>Shorts</td>\n",
              "      <td>191</td>\n",
              "    </tr>\n",
              "    <tr>\n",
              "      <th>6</th>\n",
              "      <td>7</td>\n",
              "      <td>Intimates</td>\n",
              "      <td>217</td>\n",
              "    </tr>\n",
              "    <tr>\n",
              "      <th>7</th>\n",
              "      <td>8</td>\n",
              "      <td>Intimates</td>\n",
              "      <td>233</td>\n",
              "    </tr>\n",
              "    <tr>\n",
              "      <th>8</th>\n",
              "      <td>9</td>\n",
              "      <td>Fashion Hoodies &amp; Sweatshirts</td>\n",
              "      <td>192</td>\n",
              "    </tr>\n",
              "  </tbody>\n",
              "</table>\n",
              "</div>\n",
              "      <button class=\"colab-df-convert\" onclick=\"convertToInteractive('df-bc46041e-68be-435e-bea5-e5665d033546')\"\n",
              "              title=\"Convert this dataframe to an interactive table.\"\n",
              "              style=\"display:none;\">\n",
              "        \n",
              "  <svg xmlns=\"http://www.w3.org/2000/svg\" height=\"24px\"viewBox=\"0 0 24 24\"\n",
              "       width=\"24px\">\n",
              "    <path d=\"M0 0h24v24H0V0z\" fill=\"none\"/>\n",
              "    <path d=\"M18.56 5.44l.94 2.06.94-2.06 2.06-.94-2.06-.94-.94-2.06-.94 2.06-2.06.94zm-11 1L8.5 8.5l.94-2.06 2.06-.94-2.06-.94L8.5 2.5l-.94 2.06-2.06.94zm10 10l.94 2.06.94-2.06 2.06-.94-2.06-.94-.94-2.06-.94 2.06-2.06.94z\"/><path d=\"M17.41 7.96l-1.37-1.37c-.4-.4-.92-.59-1.43-.59-.52 0-1.04.2-1.43.59L10.3 9.45l-7.72 7.72c-.78.78-.78 2.05 0 2.83L4 21.41c.39.39.9.59 1.41.59.51 0 1.02-.2 1.41-.59l7.78-7.78 2.81-2.81c.8-.78.8-2.07 0-2.86zM5.41 20L4 18.59l7.72-7.72 1.47 1.35L5.41 20z\"/>\n",
              "  </svg>\n",
              "      </button>\n",
              "      \n",
              "  <style>\n",
              "    .colab-df-container {\n",
              "      display:flex;\n",
              "      flex-wrap:wrap;\n",
              "      gap: 12px;\n",
              "    }\n",
              "\n",
              "    .colab-df-convert {\n",
              "      background-color: #E8F0FE;\n",
              "      border: none;\n",
              "      border-radius: 50%;\n",
              "      cursor: pointer;\n",
              "      display: none;\n",
              "      fill: #1967D2;\n",
              "      height: 32px;\n",
              "      padding: 0 0 0 0;\n",
              "      width: 32px;\n",
              "    }\n",
              "\n",
              "    .colab-df-convert:hover {\n",
              "      background-color: #E2EBFA;\n",
              "      box-shadow: 0px 1px 2px rgba(60, 64, 67, 0.3), 0px 1px 3px 1px rgba(60, 64, 67, 0.15);\n",
              "      fill: #174EA6;\n",
              "    }\n",
              "\n",
              "    [theme=dark] .colab-df-convert {\n",
              "      background-color: #3B4455;\n",
              "      fill: #D2E3FC;\n",
              "    }\n",
              "\n",
              "    [theme=dark] .colab-df-convert:hover {\n",
              "      background-color: #434B5C;\n",
              "      box-shadow: 0px 1px 3px 1px rgba(0, 0, 0, 0.15);\n",
              "      filter: drop-shadow(0px 1px 2px rgba(0, 0, 0, 0.3));\n",
              "      fill: #FFFFFF;\n",
              "    }\n",
              "  </style>\n",
              "\n",
              "      <script>\n",
              "        const buttonEl =\n",
              "          document.querySelector('#df-bc46041e-68be-435e-bea5-e5665d033546 button.colab-df-convert');\n",
              "        buttonEl.style.display =\n",
              "          google.colab.kernel.accessAllowed ? 'block' : 'none';\n",
              "\n",
              "        async function convertToInteractive(key) {\n",
              "          const element = document.querySelector('#df-bc46041e-68be-435e-bea5-e5665d033546');\n",
              "          const dataTable =\n",
              "            await google.colab.kernel.invokeFunction('convertToInteractive',\n",
              "                                                     [key], {});\n",
              "          if (!dataTable) return;\n",
              "\n",
              "          const docLinkHtml = 'Like what you see? Visit the ' +\n",
              "            '<a target=\"_blank\" href=https://colab.research.google.com/notebooks/data_table.ipynb>data table notebook</a>'\n",
              "            + ' to learn more about interactive tables.';\n",
              "          element.innerHTML = '';\n",
              "          dataTable['output_type'] = 'display_data';\n",
              "          await google.colab.output.renderOutput(dataTable, element);\n",
              "          const docLink = document.createElement('div');\n",
              "          docLink.innerHTML = docLinkHtml;\n",
              "          element.appendChild(docLink);\n",
              "        }\n",
              "      </script>\n",
              "    </div>\n",
              "  </div>\n",
              "  "
            ]
          },
          "metadata": {},
          "execution_count": 11
        }
      ]
    },
    {
      "cell_type": "markdown",
      "source": [
        "Kategori produk dengan pembelian tertinggi dan memiliki status `Complete` tiap bulan selama Q1 hingga Q3 (01 Januari 2022 - 30 September 2022):\n",
        "* kategori produk yang paling sering dibeli selama Q1 samapai Q3 yaitu intimates dan jeans.\n",
        "* Pada bulan Agustu kategori tertinggi adalah intimates. Sementara itu, terjadi penurunan untuk bulan April ke bulan Mei dari 171 menjadi 152.\n",
        "* selain itu, intimates merupakan kategori yang mendominasi pada Q1 hingga Q3, hal ini menunjukkan bahwa kebanyakan dari pembeli adalah orang-orang dewasa baik pria maupun wanita.\n",
        "* kategori sweatshirts, hoddies, tops dan shorts juga secara bersamaan menjadi peringkat kedua menjajahi hati pelanggan. Ini berarti kebanyakan dari pelanggan TheLook menyukai pakaian dengan kategori yang nyaman dan casual.\n",
        "\n",
        "\n"
      ],
      "metadata": {
        "id": "ujYBuvWmFx1o"
      }
    },
    {
      "cell_type": "markdown",
      "source": [
        "\n",
        "\n",
        "---\n",
        "\n"
      ],
      "metadata": {
        "id": "g1Xc0e2cKC-A"
      }
    },
    {
      "cell_type": "markdown",
      "source": [
        "### 3.6 Kategori Produk yang Paling Banyak mendapatkan Pendapatan dan *Complete* tiap bulan selama Q1 sampai Q3 di tahun 2022 (01 Januari 2022 - 30 September 2022)"
      ],
      "metadata": {
        "id": "g0qFzYeEm2wa"
      }
    },
    {
      "cell_type": "code",
      "source": [
        "#Mencari kategori produk yang paling banyak mendapatkan pendapatan\n",
        "No5 = client.query('''\n",
        "    SELECT Bulan, kategori, Jumlah_Item, Jumlah_Penjualan_USD\n",
        "    FROM(\n",
        "        SELECT\n",
        "            x.*,\n",
        "            ROW_NUMBER() OVER(PARTITION BY Bulan ORDER BY Jumlah_Item desc) rn\n",
        "\n",
        "          FROM (\n",
        "                SELECT\n",
        "                extract(year from OI.created_at) as Tahun,\n",
        "                extract(month from OI.created_at) as Bulan,\n",
        "                P.category as kategori,\n",
        "                sum(O.num_of_item) as Jumlah_Item,\n",
        "                SUM(OI.sale_price * O.num_of_item) as Jumlah_Penjualan_USD\n",
        "              FROM `bigquery-public-data.thelook_ecommerce.order_items` as OI\n",
        "                LEFT JOIN `bigquery-public-data.thelook_ecommerce.orders` as O\n",
        "                ON OI.order_id=O.order_id\n",
        "                LEFT JOIN `bigquery-public-data.thelook_ecommerce.products` as P\n",
        "                ON OI.product_id=P.id\n",
        "              WHERE O.status='Complete' and OI.created_at BETWEEN \"2022-01-01\" AND \"2022-09-30\"\n",
        "              GROUP BY Tahun, Bulan, kategori\n",
        "          ) x\n",
        "          ORDER BY Bulan\n",
        "        )y\n",
        "    WHERE rn =1\n",
        "''').to_dataframe()\n",
        "No5"
      ],
      "metadata": {
        "colab": {
          "base_uri": "https://localhost:8080/",
          "height": 331
        },
        "id": "S6u10axVnQTt",
        "outputId": "95505e5c-1818-41e1-9115-f6d5a86bede6"
      },
      "execution_count": 12,
      "outputs": [
        {
          "output_type": "execute_result",
          "data": {
            "text/plain": [
              "   Bulan                       kategori  Jumlah_Item  Jumlah_Penjualan_USD\n",
              "0      1                    Tops & Tees          136           5402.539999\n",
              "1      2                    Tops & Tees          132           5743.620000\n",
              "2      3                         Shorts          146           6476.160021\n",
              "3      4                      Intimates          171           5050.710000\n",
              "4      5  Fashion Hoodies & Sweatshirts          152           8397.289980\n",
              "5      6                         Shorts          191           9479.900016\n",
              "6      7                      Intimates          217           6800.690009\n",
              "7      8                      Intimates          233           7195.790015\n",
              "8      9  Fashion Hoodies & Sweatshirts          192          10154.719980"
            ],
            "text/html": [
              "\n",
              "  <div id=\"df-d456834b-97e6-47b8-9140-21624bd803d5\">\n",
              "    <div class=\"colab-df-container\">\n",
              "      <div>\n",
              "<style scoped>\n",
              "    .dataframe tbody tr th:only-of-type {\n",
              "        vertical-align: middle;\n",
              "    }\n",
              "\n",
              "    .dataframe tbody tr th {\n",
              "        vertical-align: top;\n",
              "    }\n",
              "\n",
              "    .dataframe thead th {\n",
              "        text-align: right;\n",
              "    }\n",
              "</style>\n",
              "<table border=\"1\" class=\"dataframe\">\n",
              "  <thead>\n",
              "    <tr style=\"text-align: right;\">\n",
              "      <th></th>\n",
              "      <th>Bulan</th>\n",
              "      <th>kategori</th>\n",
              "      <th>Jumlah_Item</th>\n",
              "      <th>Jumlah_Penjualan_USD</th>\n",
              "    </tr>\n",
              "  </thead>\n",
              "  <tbody>\n",
              "    <tr>\n",
              "      <th>0</th>\n",
              "      <td>1</td>\n",
              "      <td>Tops &amp; Tees</td>\n",
              "      <td>136</td>\n",
              "      <td>5402.539999</td>\n",
              "    </tr>\n",
              "    <tr>\n",
              "      <th>1</th>\n",
              "      <td>2</td>\n",
              "      <td>Tops &amp; Tees</td>\n",
              "      <td>132</td>\n",
              "      <td>5743.620000</td>\n",
              "    </tr>\n",
              "    <tr>\n",
              "      <th>2</th>\n",
              "      <td>3</td>\n",
              "      <td>Shorts</td>\n",
              "      <td>146</td>\n",
              "      <td>6476.160021</td>\n",
              "    </tr>\n",
              "    <tr>\n",
              "      <th>3</th>\n",
              "      <td>4</td>\n",
              "      <td>Intimates</td>\n",
              "      <td>171</td>\n",
              "      <td>5050.710000</td>\n",
              "    </tr>\n",
              "    <tr>\n",
              "      <th>4</th>\n",
              "      <td>5</td>\n",
              "      <td>Fashion Hoodies &amp; Sweatshirts</td>\n",
              "      <td>152</td>\n",
              "      <td>8397.289980</td>\n",
              "    </tr>\n",
              "    <tr>\n",
              "      <th>5</th>\n",
              "      <td>6</td>\n",
              "      <td>Shorts</td>\n",
              "      <td>191</td>\n",
              "      <td>9479.900016</td>\n",
              "    </tr>\n",
              "    <tr>\n",
              "      <th>6</th>\n",
              "      <td>7</td>\n",
              "      <td>Intimates</td>\n",
              "      <td>217</td>\n",
              "      <td>6800.690009</td>\n",
              "    </tr>\n",
              "    <tr>\n",
              "      <th>7</th>\n",
              "      <td>8</td>\n",
              "      <td>Intimates</td>\n",
              "      <td>233</td>\n",
              "      <td>7195.790015</td>\n",
              "    </tr>\n",
              "    <tr>\n",
              "      <th>8</th>\n",
              "      <td>9</td>\n",
              "      <td>Fashion Hoodies &amp; Sweatshirts</td>\n",
              "      <td>192</td>\n",
              "      <td>10154.719980</td>\n",
              "    </tr>\n",
              "  </tbody>\n",
              "</table>\n",
              "</div>\n",
              "      <button class=\"colab-df-convert\" onclick=\"convertToInteractive('df-d456834b-97e6-47b8-9140-21624bd803d5')\"\n",
              "              title=\"Convert this dataframe to an interactive table.\"\n",
              "              style=\"display:none;\">\n",
              "        \n",
              "  <svg xmlns=\"http://www.w3.org/2000/svg\" height=\"24px\"viewBox=\"0 0 24 24\"\n",
              "       width=\"24px\">\n",
              "    <path d=\"M0 0h24v24H0V0z\" fill=\"none\"/>\n",
              "    <path d=\"M18.56 5.44l.94 2.06.94-2.06 2.06-.94-2.06-.94-.94-2.06-.94 2.06-2.06.94zm-11 1L8.5 8.5l.94-2.06 2.06-.94-2.06-.94L8.5 2.5l-.94 2.06-2.06.94zm10 10l.94 2.06.94-2.06 2.06-.94-2.06-.94-.94-2.06-.94 2.06-2.06.94z\"/><path d=\"M17.41 7.96l-1.37-1.37c-.4-.4-.92-.59-1.43-.59-.52 0-1.04.2-1.43.59L10.3 9.45l-7.72 7.72c-.78.78-.78 2.05 0 2.83L4 21.41c.39.39.9.59 1.41.59.51 0 1.02-.2 1.41-.59l7.78-7.78 2.81-2.81c.8-.78.8-2.07 0-2.86zM5.41 20L4 18.59l7.72-7.72 1.47 1.35L5.41 20z\"/>\n",
              "  </svg>\n",
              "      </button>\n",
              "      \n",
              "  <style>\n",
              "    .colab-df-container {\n",
              "      display:flex;\n",
              "      flex-wrap:wrap;\n",
              "      gap: 12px;\n",
              "    }\n",
              "\n",
              "    .colab-df-convert {\n",
              "      background-color: #E8F0FE;\n",
              "      border: none;\n",
              "      border-radius: 50%;\n",
              "      cursor: pointer;\n",
              "      display: none;\n",
              "      fill: #1967D2;\n",
              "      height: 32px;\n",
              "      padding: 0 0 0 0;\n",
              "      width: 32px;\n",
              "    }\n",
              "\n",
              "    .colab-df-convert:hover {\n",
              "      background-color: #E2EBFA;\n",
              "      box-shadow: 0px 1px 2px rgba(60, 64, 67, 0.3), 0px 1px 3px 1px rgba(60, 64, 67, 0.15);\n",
              "      fill: #174EA6;\n",
              "    }\n",
              "\n",
              "    [theme=dark] .colab-df-convert {\n",
              "      background-color: #3B4455;\n",
              "      fill: #D2E3FC;\n",
              "    }\n",
              "\n",
              "    [theme=dark] .colab-df-convert:hover {\n",
              "      background-color: #434B5C;\n",
              "      box-shadow: 0px 1px 3px 1px rgba(0, 0, 0, 0.15);\n",
              "      filter: drop-shadow(0px 1px 2px rgba(0, 0, 0, 0.3));\n",
              "      fill: #FFFFFF;\n",
              "    }\n",
              "  </style>\n",
              "\n",
              "      <script>\n",
              "        const buttonEl =\n",
              "          document.querySelector('#df-d456834b-97e6-47b8-9140-21624bd803d5 button.colab-df-convert');\n",
              "        buttonEl.style.display =\n",
              "          google.colab.kernel.accessAllowed ? 'block' : 'none';\n",
              "\n",
              "        async function convertToInteractive(key) {\n",
              "          const element = document.querySelector('#df-d456834b-97e6-47b8-9140-21624bd803d5');\n",
              "          const dataTable =\n",
              "            await google.colab.kernel.invokeFunction('convertToInteractive',\n",
              "                                                     [key], {});\n",
              "          if (!dataTable) return;\n",
              "\n",
              "          const docLinkHtml = 'Like what you see? Visit the ' +\n",
              "            '<a target=\"_blank\" href=https://colab.research.google.com/notebooks/data_table.ipynb>data table notebook</a>'\n",
              "            + ' to learn more about interactive tables.';\n",
              "          element.innerHTML = '';\n",
              "          dataTable['output_type'] = 'display_data';\n",
              "          await google.colab.output.renderOutput(dataTable, element);\n",
              "          const docLink = document.createElement('div');\n",
              "          docLink.innerHTML = docLinkHtml;\n",
              "          element.appendChild(docLink);\n",
              "        }\n",
              "      </script>\n",
              "    </div>\n",
              "  </div>\n",
              "  "
            ]
          },
          "metadata": {},
          "execution_count": 12
        }
      ]
    },
    {
      "cell_type": "markdown",
      "source": [
        "Kategori produk dengan total penjualan tertinggi dan memiliki status `Complete` tiap bulan selama Q1 hingga Q3 (01 Januari 2022 - 30 September 2022):\n",
        "* Kategori produk paling tinggi adalah jeans pada bulan september dengan total penjualan sebesar `$10.154` dan paling rendah adalah kategori intimates pada bulan April dengan total penjualan sebesar `S5.050`\n",
        "* pada bulan September kategori produk Fashion hoodies dan sweatshirts sangat tinggi yang kemungkinan dikarena oleh banyaknya orang yang ingin mengganti hoodies lama mereka yang mereka beli pada saat perayaan tahun baru dan ingin membeli yang baru pada bulan tersebut.\n",
        "* Selain itu, bulan September mendekati periode akhir tahun, sehingga orang-orang banyak membeli hoodies pada bulan tersebut untuk persiapan musim dingin."
      ],
      "metadata": {
        "id": "2tp-ZB5qlaIX"
      }
    },
    {
      "cell_type": "markdown",
      "source": [
        "\n",
        "\n",
        "---\n",
        "\n"
      ],
      "metadata": {
        "id": "7EyF4EoJKFum"
      }
    },
    {
      "cell_type": "markdown",
      "source": [
        "### 3.7 Korelasi jumlah transaksi dan total penjualan terhadap users"
      ],
      "metadata": {
        "id": "RJfApr1bm-7o"
      }
    },
    {
      "cell_type": "code",
      "source": [
        "#Mencari Korelasi jumlah transaksi dan total penjualan terhadap users.\n",
        "No6 = client.query('''\n",
        "SELECT x.Tahun as Tahun_Q1_Q3,\n",
        "  corr(x.Jumlah_Penjualan_USD, x.Users) as Korelasi_Jumlah_Penjualan_Users,\n",
        "  corr(x.Jumlah_Transaksi, x.Users) as Korelasi_Jumlah_Transaksi_Users,\n",
        "FROM (\n",
        "      SELECT\n",
        "      extract(year from OI.created_at) as Tahun,\n",
        "      extract(month from OI.created_at) as Bulan,\n",
        "      count(DISTINCT OI.user_id) as Users,\n",
        "      COUNT(Distinct OI.order_id) AS Jumlah_Transaksi,\n",
        "      SUM(OI.sale_price * O.num_of_item) as Jumlah_Penjualan_USD,\n",
        "\n",
        "      FROM `bigquery-public-data.thelook_ecommerce.order_items` as OI\n",
        "      LEFT JOIN `bigquery-public-data.thelook_ecommerce.orders` as O\n",
        "      ON OI.user_id=O.user_id\n",
        "      LEFT JOIN `bigquery-public-data.thelook_ecommerce.users` as U\n",
        "      ON OI.user_id=U.id\n",
        "      WHERE OI.status='Complete' and OI.created_at BETWEEN \"2022-01-01\" AND \"2022-09-30\"\n",
        "      GROUP BY Tahun, Bulan\n",
        "    ) x\n",
        " GROUP BY 1\n",
        " ORDER BY 1\n",
        "\n",
        "''').to_dataframe()\n",
        "No6\n"
      ],
      "metadata": {
        "colab": {
          "base_uri": "https://localhost:8080/",
          "height": 81
        },
        "id": "f4hspOtZ4x1j",
        "outputId": "2538a85e-2288-4d01-e9a2-41d74b50dac4"
      },
      "execution_count": 13,
      "outputs": [
        {
          "output_type": "execute_result",
          "data": {
            "text/plain": [
              "   Tahun_Q1_Q3  Korelasi_Jumlah_Penjualan_Users  \\\n",
              "0         2022                         0.938347   \n",
              "\n",
              "   Korelasi_Jumlah_Transaksi_Users  \n",
              "0                         0.999889  "
            ],
            "text/html": [
              "\n",
              "  <div id=\"df-e151c4e4-a311-4af7-98e0-5b0d3ccc3060\">\n",
              "    <div class=\"colab-df-container\">\n",
              "      <div>\n",
              "<style scoped>\n",
              "    .dataframe tbody tr th:only-of-type {\n",
              "        vertical-align: middle;\n",
              "    }\n",
              "\n",
              "    .dataframe tbody tr th {\n",
              "        vertical-align: top;\n",
              "    }\n",
              "\n",
              "    .dataframe thead th {\n",
              "        text-align: right;\n",
              "    }\n",
              "</style>\n",
              "<table border=\"1\" class=\"dataframe\">\n",
              "  <thead>\n",
              "    <tr style=\"text-align: right;\">\n",
              "      <th></th>\n",
              "      <th>Tahun_Q1_Q3</th>\n",
              "      <th>Korelasi_Jumlah_Penjualan_Users</th>\n",
              "      <th>Korelasi_Jumlah_Transaksi_Users</th>\n",
              "    </tr>\n",
              "  </thead>\n",
              "  <tbody>\n",
              "    <tr>\n",
              "      <th>0</th>\n",
              "      <td>2022</td>\n",
              "      <td>0.938347</td>\n",
              "      <td>0.999889</td>\n",
              "    </tr>\n",
              "  </tbody>\n",
              "</table>\n",
              "</div>\n",
              "      <button class=\"colab-df-convert\" onclick=\"convertToInteractive('df-e151c4e4-a311-4af7-98e0-5b0d3ccc3060')\"\n",
              "              title=\"Convert this dataframe to an interactive table.\"\n",
              "              style=\"display:none;\">\n",
              "        \n",
              "  <svg xmlns=\"http://www.w3.org/2000/svg\" height=\"24px\"viewBox=\"0 0 24 24\"\n",
              "       width=\"24px\">\n",
              "    <path d=\"M0 0h24v24H0V0z\" fill=\"none\"/>\n",
              "    <path d=\"M18.56 5.44l.94 2.06.94-2.06 2.06-.94-2.06-.94-.94-2.06-.94 2.06-2.06.94zm-11 1L8.5 8.5l.94-2.06 2.06-.94-2.06-.94L8.5 2.5l-.94 2.06-2.06.94zm10 10l.94 2.06.94-2.06 2.06-.94-2.06-.94-.94-2.06-.94 2.06-2.06.94z\"/><path d=\"M17.41 7.96l-1.37-1.37c-.4-.4-.92-.59-1.43-.59-.52 0-1.04.2-1.43.59L10.3 9.45l-7.72 7.72c-.78.78-.78 2.05 0 2.83L4 21.41c.39.39.9.59 1.41.59.51 0 1.02-.2 1.41-.59l7.78-7.78 2.81-2.81c.8-.78.8-2.07 0-2.86zM5.41 20L4 18.59l7.72-7.72 1.47 1.35L5.41 20z\"/>\n",
              "  </svg>\n",
              "      </button>\n",
              "      \n",
              "  <style>\n",
              "    .colab-df-container {\n",
              "      display:flex;\n",
              "      flex-wrap:wrap;\n",
              "      gap: 12px;\n",
              "    }\n",
              "\n",
              "    .colab-df-convert {\n",
              "      background-color: #E8F0FE;\n",
              "      border: none;\n",
              "      border-radius: 50%;\n",
              "      cursor: pointer;\n",
              "      display: none;\n",
              "      fill: #1967D2;\n",
              "      height: 32px;\n",
              "      padding: 0 0 0 0;\n",
              "      width: 32px;\n",
              "    }\n",
              "\n",
              "    .colab-df-convert:hover {\n",
              "      background-color: #E2EBFA;\n",
              "      box-shadow: 0px 1px 2px rgba(60, 64, 67, 0.3), 0px 1px 3px 1px rgba(60, 64, 67, 0.15);\n",
              "      fill: #174EA6;\n",
              "    }\n",
              "\n",
              "    [theme=dark] .colab-df-convert {\n",
              "      background-color: #3B4455;\n",
              "      fill: #D2E3FC;\n",
              "    }\n",
              "\n",
              "    [theme=dark] .colab-df-convert:hover {\n",
              "      background-color: #434B5C;\n",
              "      box-shadow: 0px 1px 3px 1px rgba(0, 0, 0, 0.15);\n",
              "      filter: drop-shadow(0px 1px 2px rgba(0, 0, 0, 0.3));\n",
              "      fill: #FFFFFF;\n",
              "    }\n",
              "  </style>\n",
              "\n",
              "      <script>\n",
              "        const buttonEl =\n",
              "          document.querySelector('#df-e151c4e4-a311-4af7-98e0-5b0d3ccc3060 button.colab-df-convert');\n",
              "        buttonEl.style.display =\n",
              "          google.colab.kernel.accessAllowed ? 'block' : 'none';\n",
              "\n",
              "        async function convertToInteractive(key) {\n",
              "          const element = document.querySelector('#df-e151c4e4-a311-4af7-98e0-5b0d3ccc3060');\n",
              "          const dataTable =\n",
              "            await google.colab.kernel.invokeFunction('convertToInteractive',\n",
              "                                                     [key], {});\n",
              "          if (!dataTable) return;\n",
              "\n",
              "          const docLinkHtml = 'Like what you see? Visit the ' +\n",
              "            '<a target=\"_blank\" href=https://colab.research.google.com/notebooks/data_table.ipynb>data table notebook</a>'\n",
              "            + ' to learn more about interactive tables.';\n",
              "          element.innerHTML = '';\n",
              "          dataTable['output_type'] = 'display_data';\n",
              "          await google.colab.output.renderOutput(dataTable, element);\n",
              "          const docLink = document.createElement('div');\n",
              "          docLink.innerHTML = docLinkHtml;\n",
              "          element.appendChild(docLink);\n",
              "        }\n",
              "      </script>\n",
              "    </div>\n",
              "  </div>\n",
              "  "
            ]
          },
          "metadata": {},
          "execution_count": 13
        }
      ]
    },
    {
      "cell_type": "markdown",
      "source": [
        "Korelasi antara jumlah transaksi dengan jumlah penjualan terhadap users yang memiliki status `Complete`:\n",
        "* Berdasarkan data tersebut, korelasi antara users dengan jumlah_transaksi lebih dekat dibandingkan dengan jumlah penjualannya.\n",
        "* Hal ini berarti semakin banyak jumlah Usersnya maka semakin banyak pula  jumlah transaksinya yang dilakukan.\n",
        "* Korelasi kedua variabel tersebut (Jumlah penjualan dan Jumlah transaksi) terhadap Users dapat dikatakan hampir sama, yang masing-masing bernilai 0.938347 dan 0.999889.\n",
        "* Selain itu, kedua koefiesien tersebut bernilai positif yang berarti kedua variable tersebut cenderung mengalami peningkatan sebanding dengan banyaknya users."
      ],
      "metadata": {
        "id": "DNxYET_KrVtR"
      }
    },
    {
      "cell_type": "markdown",
      "source": [
        "### 3.8 Persentase Peningkatan/Penurunan Jumlah Penjualan"
      ],
      "metadata": {
        "id": "an64HIcidJkG"
      }
    },
    {
      "cell_type": "code",
      "source": [
        "#Mencari Persentase Peningkatan/Penurunan Jumlah Penjualan\n",
        "Persen_Grown = client.query('''\n",
        "    SELECT Bulan,  Jumlah_Penjualan_USD, persen_grown\n",
        "    FROM(\n",
        "        SELECT\n",
        "            x.*,\n",
        "            100.0 * (1 - LAG(Jumlah_Penjualan_USD) OVER (ORDER BY Bulan) / Jumlah_Penjualan_USD) AS persen_grown\n",
        "          FROM (\n",
        "                SELECT\n",
        "                  extract(year from OI.created_at) as Tahun,\n",
        "                  extract(month from OI.created_at) as Bulan,\n",
        "                  SUM(OI.sale_price * O.num_of_item) as Jumlah_Penjualan_USD,\n",
        "                  FROM `bigquery-public-data.thelook_ecommerce.order_items` as OI\n",
        "                  LEFT JOIN `bigquery-public-data.thelook_ecommerce.orders` as O\n",
        "                  ON OI.user_id=O.user_id\n",
        "                  JOIN `bigquery-public-data.thelook_ecommerce.products` as P\n",
        "                  ON OI.product_id=P.id\n",
        "                  WHERE O.status='Complete' and OI.created_at BETWEEN \"2022-01-01\" AND \"2022-09-30\"\n",
        "                  GROUP BY Tahun, Bulan\n",
        "          ) x\n",
        "        )y\n",
        "        ORDER BY 1\n",
        "''').to_dataframe()\n",
        "Persen_Grown"
      ],
      "metadata": {
        "colab": {
          "base_uri": "https://localhost:8080/",
          "height": 331
        },
        "id": "4DwaUu0GdIug",
        "outputId": "a6ecadef-a040-411d-fab5-4dda37dff57e"
      },
      "execution_count": 14,
      "outputs": [
        {
          "output_type": "execute_result",
          "data": {
            "text/plain": [
              "   Bulan  Jumlah_Penjualan_USD  persen_grown\n",
              "0      1         205187.140244           NaN\n",
              "1      2         192272.470221     -6.716859\n",
              "2      3         222751.000460     13.682780\n",
              "3      4         204026.470322     -9.177500\n",
              "4      5         230494.610058     11.483192\n",
              "5      6         259981.100263     11.341782\n",
              "6      7         277688.790208      6.376811\n",
              "7      8         277813.770223      0.044987\n",
              "8      9         273534.490132     -1.564439"
            ],
            "text/html": [
              "\n",
              "  <div id=\"df-021d7cc4-cebc-47e7-9ab0-a0866970cb59\">\n",
              "    <div class=\"colab-df-container\">\n",
              "      <div>\n",
              "<style scoped>\n",
              "    .dataframe tbody tr th:only-of-type {\n",
              "        vertical-align: middle;\n",
              "    }\n",
              "\n",
              "    .dataframe tbody tr th {\n",
              "        vertical-align: top;\n",
              "    }\n",
              "\n",
              "    .dataframe thead th {\n",
              "        text-align: right;\n",
              "    }\n",
              "</style>\n",
              "<table border=\"1\" class=\"dataframe\">\n",
              "  <thead>\n",
              "    <tr style=\"text-align: right;\">\n",
              "      <th></th>\n",
              "      <th>Bulan</th>\n",
              "      <th>Jumlah_Penjualan_USD</th>\n",
              "      <th>persen_grown</th>\n",
              "    </tr>\n",
              "  </thead>\n",
              "  <tbody>\n",
              "    <tr>\n",
              "      <th>0</th>\n",
              "      <td>1</td>\n",
              "      <td>205187.140244</td>\n",
              "      <td>NaN</td>\n",
              "    </tr>\n",
              "    <tr>\n",
              "      <th>1</th>\n",
              "      <td>2</td>\n",
              "      <td>192272.470221</td>\n",
              "      <td>-6.716859</td>\n",
              "    </tr>\n",
              "    <tr>\n",
              "      <th>2</th>\n",
              "      <td>3</td>\n",
              "      <td>222751.000460</td>\n",
              "      <td>13.682780</td>\n",
              "    </tr>\n",
              "    <tr>\n",
              "      <th>3</th>\n",
              "      <td>4</td>\n",
              "      <td>204026.470322</td>\n",
              "      <td>-9.177500</td>\n",
              "    </tr>\n",
              "    <tr>\n",
              "      <th>4</th>\n",
              "      <td>5</td>\n",
              "      <td>230494.610058</td>\n",
              "      <td>11.483192</td>\n",
              "    </tr>\n",
              "    <tr>\n",
              "      <th>5</th>\n",
              "      <td>6</td>\n",
              "      <td>259981.100263</td>\n",
              "      <td>11.341782</td>\n",
              "    </tr>\n",
              "    <tr>\n",
              "      <th>6</th>\n",
              "      <td>7</td>\n",
              "      <td>277688.790208</td>\n",
              "      <td>6.376811</td>\n",
              "    </tr>\n",
              "    <tr>\n",
              "      <th>7</th>\n",
              "      <td>8</td>\n",
              "      <td>277813.770223</td>\n",
              "      <td>0.044987</td>\n",
              "    </tr>\n",
              "    <tr>\n",
              "      <th>8</th>\n",
              "      <td>9</td>\n",
              "      <td>273534.490132</td>\n",
              "      <td>-1.564439</td>\n",
              "    </tr>\n",
              "  </tbody>\n",
              "</table>\n",
              "</div>\n",
              "      <button class=\"colab-df-convert\" onclick=\"convertToInteractive('df-021d7cc4-cebc-47e7-9ab0-a0866970cb59')\"\n",
              "              title=\"Convert this dataframe to an interactive table.\"\n",
              "              style=\"display:none;\">\n",
              "        \n",
              "  <svg xmlns=\"http://www.w3.org/2000/svg\" height=\"24px\"viewBox=\"0 0 24 24\"\n",
              "       width=\"24px\">\n",
              "    <path d=\"M0 0h24v24H0V0z\" fill=\"none\"/>\n",
              "    <path d=\"M18.56 5.44l.94 2.06.94-2.06 2.06-.94-2.06-.94-.94-2.06-.94 2.06-2.06.94zm-11 1L8.5 8.5l.94-2.06 2.06-.94-2.06-.94L8.5 2.5l-.94 2.06-2.06.94zm10 10l.94 2.06.94-2.06 2.06-.94-2.06-.94-.94-2.06-.94 2.06-2.06.94z\"/><path d=\"M17.41 7.96l-1.37-1.37c-.4-.4-.92-.59-1.43-.59-.52 0-1.04.2-1.43.59L10.3 9.45l-7.72 7.72c-.78.78-.78 2.05 0 2.83L4 21.41c.39.39.9.59 1.41.59.51 0 1.02-.2 1.41-.59l7.78-7.78 2.81-2.81c.8-.78.8-2.07 0-2.86zM5.41 20L4 18.59l7.72-7.72 1.47 1.35L5.41 20z\"/>\n",
              "  </svg>\n",
              "      </button>\n",
              "      \n",
              "  <style>\n",
              "    .colab-df-container {\n",
              "      display:flex;\n",
              "      flex-wrap:wrap;\n",
              "      gap: 12px;\n",
              "    }\n",
              "\n",
              "    .colab-df-convert {\n",
              "      background-color: #E8F0FE;\n",
              "      border: none;\n",
              "      border-radius: 50%;\n",
              "      cursor: pointer;\n",
              "      display: none;\n",
              "      fill: #1967D2;\n",
              "      height: 32px;\n",
              "      padding: 0 0 0 0;\n",
              "      width: 32px;\n",
              "    }\n",
              "\n",
              "    .colab-df-convert:hover {\n",
              "      background-color: #E2EBFA;\n",
              "      box-shadow: 0px 1px 2px rgba(60, 64, 67, 0.3), 0px 1px 3px 1px rgba(60, 64, 67, 0.15);\n",
              "      fill: #174EA6;\n",
              "    }\n",
              "\n",
              "    [theme=dark] .colab-df-convert {\n",
              "      background-color: #3B4455;\n",
              "      fill: #D2E3FC;\n",
              "    }\n",
              "\n",
              "    [theme=dark] .colab-df-convert:hover {\n",
              "      background-color: #434B5C;\n",
              "      box-shadow: 0px 1px 3px 1px rgba(0, 0, 0, 0.15);\n",
              "      filter: drop-shadow(0px 1px 2px rgba(0, 0, 0, 0.3));\n",
              "      fill: #FFFFFF;\n",
              "    }\n",
              "  </style>\n",
              "\n",
              "      <script>\n",
              "        const buttonEl =\n",
              "          document.querySelector('#df-021d7cc4-cebc-47e7-9ab0-a0866970cb59 button.colab-df-convert');\n",
              "        buttonEl.style.display =\n",
              "          google.colab.kernel.accessAllowed ? 'block' : 'none';\n",
              "\n",
              "        async function convertToInteractive(key) {\n",
              "          const element = document.querySelector('#df-021d7cc4-cebc-47e7-9ab0-a0866970cb59');\n",
              "          const dataTable =\n",
              "            await google.colab.kernel.invokeFunction('convertToInteractive',\n",
              "                                                     [key], {});\n",
              "          if (!dataTable) return;\n",
              "\n",
              "          const docLinkHtml = 'Like what you see? Visit the ' +\n",
              "            '<a target=\"_blank\" href=https://colab.research.google.com/notebooks/data_table.ipynb>data table notebook</a>'\n",
              "            + ' to learn more about interactive tables.';\n",
              "          element.innerHTML = '';\n",
              "          dataTable['output_type'] = 'display_data';\n",
              "          await google.colab.output.renderOutput(dataTable, element);\n",
              "          const docLink = document.createElement('div');\n",
              "          docLink.innerHTML = docLinkHtml;\n",
              "          element.appendChild(docLink);\n",
              "        }\n",
              "      </script>\n",
              "    </div>\n",
              "  </div>\n",
              "  "
            ]
          },
          "metadata": {},
          "execution_count": 14
        }
      ]
    },
    {
      "cell_type": "markdown",
      "source": [
        " Persentase penurunan terendah pada perusahaan TheLook di kuartal 1 hingga kuarta 3 tahun 2022 adalah sebesar `~9%` pada bulan Mei dan persentase peningkatan tertinggi adalah sebesar `~13%` pada bulan Maret. Berdasarkan data tersebut, persentase jumlah penjualan untuk perusahaan TheLook tidak meningkat secara konsisten sebanyak 5% seperti target yang diingikan."
      ],
      "metadata": {
        "id": "neARmye5hCmB"
      }
    },
    {
      "cell_type": "markdown",
      "source": [
        "## 4. Analisis\n",
        "\n"
      ],
      "metadata": {
        "id": "if9tWN_HuAcT"
      }
    },
    {
      "cell_type": "markdown",
      "source": [
        "&emsp;&emsp; Berdasarkan data yang telah diolah dapat disimpulkan bahwa tiap bulan terdapat kategori produk masing-masing yang dapat digunakan sebagai acuan dalam meningkat penjualan untuk tahun berikutnya atau tahun 2023. Salah satu yang paling sering dibeli adalah produk intimates, yang disusul oleh hoodies, sweatshirs dan shorts. Sehingga, untuk kategori-kategori tersebut akan ditingkatkan volume produksinya.\n",
        "\n",
        "\n",
        "\n",
        "&emsp;&emsp;Meskipun demikian, target untuk meningkatkan jumlah penjualan perusahaan sebesar 5%  tiap bulan pada periode Q1 hingga Q3 tidak dapat dipenuhi. Karena berdasarkan persen peningkatan dari jumlah penjualan perbulan, peningkatan dan penurunan mengalami fluktuasi yang tidak tentu.\n",
        "\n",
        "\n",
        "&emsp;&emsp;Apabila CEO TheLook ingin menargetkan pendapatan di awal kuartal 4 harus mencapai `$250.000`, maka hal tersebut dapat dikatakan masuk akal. Alasan utamanya adalah pada kuarta 4, periode tersebut merupakan periode dimana banyak perayaan masal terjadi seperti natal, dan tahun baru. Pelanggan akan membeli lebih banyak barang untuk perayaan-perayaan penting tersebut.\n",
        "\n",
        "\n",
        "&emsp;&emsp;Jika didasarkan dari kuarta 1 hingga kuartal 3, persen penurunan paling signifikan yaitu sebesar `~9%`. Sementara di 3 bulan terakhir pada kuartal 3, nilai jumlah pendapatan sangat stabil di kisaran `~$270.000`. Sehingga jika terjadi penurunan signifikan terburuk sebesar `~9%` dari `~$270.000` maka pendapatan pada kuartal 4 yaitu dikisaran `~$252.810`. Nilai tersebut masih berada `~$2.810` di atas jumlah pendapatan yang ditargetkan oleh CEO.\n",
        "\n",
        "\n",
        "&emsp;&emsp;Sementara itu, jika terjadai keanikan signifikan `~13%`dari`~$270.000` maka perusahaan TheLook bisa mendapatkan jumlah pendapatan hingga dikisaran `~$305 100`. Nilai perkiraan kenaikan dan penurunan jumlah pendapatan ini belum termasuk faktor perayaan masal/serentak di kuartal 4 yang memungkinkan pelanggan untuk membeli pakaian/produk-produk baru untuk perayaan natal dan tahun baru.\n",
        "\n",
        "\n",
        "&emsp;&emsp;Sehingga dapat dipastikan bahwa target dari CEO TheLook masuk akal dan dapat tercapai. Dan keuntungan untuk kuartal 4 akan meningkat lebih tinggi lagi karena faktor kebutuhan yang meningkat pada periode perayaan masal.\n",
        "\n"
      ],
      "metadata": {
        "id": "XYdCWyu3k5qw"
      }
    }
  ]
}